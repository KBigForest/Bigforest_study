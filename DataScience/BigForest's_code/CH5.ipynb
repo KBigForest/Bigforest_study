{
 "cells": [
  {
   "cell_type": "code",
   "execution_count": 19,
   "metadata": {},
   "outputs": [
    {
     "name": "stdout",
     "output_type": "stream",
     "text": [
      "    default  paid off\n",
      "0  0.495972  0.504028\n"
     ]
    }
   ],
   "source": [
    "import pandas as pd\n",
    "import sklearn.naive_bayes as sk\n",
    "loan_data = pd.read_csv('../data/loan3000.csv')\n",
    "loan_data.head() \n",
    "predictors = ['purpose_']\n",
    "outcome = 'outcome'\n",
    "loan_data['outcome'] = loan_data['outcome'].astype('category')\n",
    "X = pd.get_dummies(loan_data[predictors], prefix='', prefix_sep='')\n",
    "y= loan_data[outcome]\n",
    "navie_model = sk.MultinomialNB(alpha=0.01, fit_prior=True)\n",
    "navie_model.fit(X, y)\n",
    "new_loan = X.loc[146:146,:]\n",
    "navie_model.predict(new_loan)[0]\n",
    "probabilites = pd.DataFrame(navie_model.predict_proba(new_loan), columns=loan_data[outcome].cat.categories)\n",
    "print(probabilites)"
   ]
  },
  {
   "cell_type": "code",
   "execution_count": 17,
   "metadata": {},
   "outputs": [
    {
     "data": {
      "text/plain": [
       "0       paid off\n",
       "1        default\n",
       "2       paid off\n",
       "3       paid off\n",
       "4        default\n",
       "          ...   \n",
       "2995    paid off\n",
       "2996    paid off\n",
       "2997     default\n",
       "2998     default\n",
       "2999     default\n",
       "Name: outcome, Length: 3000, dtype: category\n",
       "Categories (2, object): ['default', 'paid off']"
      ]
     },
     "execution_count": 17,
     "metadata": {},
     "output_type": "execute_result"
    }
   ],
   "source": [
    "\n",
    "loan_data['outcome'].astype('category')"
   ]
  }
 ],
 "metadata": {
  "kernelspec": {
   "display_name": "base",
   "language": "python",
   "name": "python3"
  },
  "language_info": {
   "codemirror_mode": {
    "name": "ipython",
    "version": 3
   },
   "file_extension": ".py",
   "mimetype": "text/x-python",
   "name": "python",
   "nbconvert_exporter": "python",
   "pygments_lexer": "ipython3",
   "version": "3.9.16"
  },
  "orig_nbformat": 4
 },
 "nbformat": 4,
 "nbformat_minor": 2
}
