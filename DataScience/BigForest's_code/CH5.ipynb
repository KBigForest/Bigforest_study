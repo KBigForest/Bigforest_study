{
 "cells": [
  {
   "cell_type": "code",
   "execution_count": 19,
   "metadata": {},
   "outputs": [
    {
     "name": "stdout",
     "output_type": "stream",
     "text": [
      "    default  paid off\n",
      "0  0.495972  0.504028\n"
     ]
    }
   ],
   "source": [
    "import pandas as pd\n",
    "import sklearn.naive_bayes as sk\n",
    "loan_data = pd.read_csv('../data/loan3000.csv')\n",
    "loan_data.head() \n",
    "predictors = ['purpose_']\n",
    "outcome = 'outcome'\n",
    "loan_data['outcome'] = loan_data['outcome'].astype('category')\n",
    "X = pd.get_dummies(loan_data[predictors], prefix='', prefix_sep='')\n",
    "y= loan_data[outcome]\n",
    "navie_model = sk.MultinomialNB(alpha=0.01, fit_prior=True)\n",
    "navie_model.fit(X, y)\n",
    "new_loan = X.loc[146:146,:]\n",
    "navie_model.predict(new_loan)[0]\n",
    "probabilites = pd.DataFrame(navie_model.predict_proba(new_loan), columns=loan_data[outcome].cat.categories)\n",
    "print(probabilites)"
   ]
  },
  {
   "cell_type": "code",
   "execution_count": 22,
   "metadata": {},
   "outputs": [],
   "source": [
    "loan_data['outcome']= loan_data['outcome'].astype('category')"
   ]
  },
  {
   "cell_type": "code",
   "execution_count": 30,
   "metadata": {},
   "outputs": [
    {
     "data": {
      "text/html": [
       "<div>\n",
       "<style scoped>\n",
       "    .dataframe tbody tr th:only-of-type {\n",
       "        vertical-align: middle;\n",
       "    }\n",
       "\n",
       "    .dataframe tbody tr th {\n",
       "        vertical-align: top;\n",
       "    }\n",
       "\n",
       "    .dataframe thead th {\n",
       "        text-align: right;\n",
       "    }\n",
       "</style>\n",
       "<table border=\"1\" class=\"dataframe\">\n",
       "  <thead>\n",
       "    <tr style=\"text-align: right;\">\n",
       "      <th></th>\n",
       "      <th>default</th>\n",
       "      <th>paid off</th>\n",
       "    </tr>\n",
       "  </thead>\n",
       "  <tbody>\n",
       "    <tr>\n",
       "      <th>count</th>\n",
       "      <td>3000.000000</td>\n",
       "      <td>3000.000000</td>\n",
       "    </tr>\n",
       "    <tr>\n",
       "      <th>mean</th>\n",
       "      <td>0.412970</td>\n",
       "      <td>0.587030</td>\n",
       "    </tr>\n",
       "    <tr>\n",
       "      <th>std</th>\n",
       "      <td>0.380406</td>\n",
       "      <td>0.380406</td>\n",
       "    </tr>\n",
       "    <tr>\n",
       "      <th>min</th>\n",
       "      <td>0.000488</td>\n",
       "      <td>0.000003</td>\n",
       "    </tr>\n",
       "    <tr>\n",
       "      <th>25%</th>\n",
       "      <td>0.032400</td>\n",
       "      <td>0.179230</td>\n",
       "    </tr>\n",
       "    <tr>\n",
       "      <th>50%</th>\n",
       "      <td>0.293488</td>\n",
       "      <td>0.706512</td>\n",
       "    </tr>\n",
       "    <tr>\n",
       "      <th>75%</th>\n",
       "      <td>0.820770</td>\n",
       "      <td>0.967600</td>\n",
       "    </tr>\n",
       "    <tr>\n",
       "      <th>max</th>\n",
       "      <td>0.999997</td>\n",
       "      <td>0.999512</td>\n",
       "    </tr>\n",
       "  </tbody>\n",
       "</table>\n",
       "</div>"
      ],
      "text/plain": [
       "           default     paid off\n",
       "count  3000.000000  3000.000000\n",
       "mean      0.412970     0.587030\n",
       "std       0.380406     0.380406\n",
       "min       0.000488     0.000003\n",
       "25%       0.032400     0.179230\n",
       "50%       0.293488     0.706512\n",
       "75%       0.820770     0.967600\n",
       "max       0.999997     0.999512"
      ]
     },
     "execution_count": 30,
     "metadata": {},
     "output_type": "execute_result"
    }
   ],
   "source": [
    "import pandas as pd\n",
    "import sklearn.linear_model as skl\n",
    "loan_data = pd.read_csv('../data/loan3000.csv')\n",
    "loan_data.rename(columns={'Unnamed: 0':'emp_len_'}, inplace=True)\n",
    "loan_data.head()\n",
    "predictors = ['payment_inc_ratio', 'purpose_', 'borrower_score', 'emp_len_']\n",
    "outcome = 'outcome'\n",
    "loan_data['outcome']= loan_data['outcome'].astype('category')\n",
    "X = pd.get_dummies(loan_data[predictors], prefix='',prefix_sep='',drop_first=True)\n",
    "y = loan_data[outcome]\n",
    "logit_reg = skl.LogisticRegression()\n",
    "logit_reg.fit(X,y)\n",
    "#실제값확인\n",
    "pred = pd.DataFrame(logit_reg.predict_proba(X), columns=loan_data[outcome].cat.categories)\n",
    "pred.describe()\n",
    "\n"
   ]
  },
  {
   "cell_type": "code",
   "execution_count": null,
   "metadata": {},
   "outputs": [],
   "source": [
    "#확률값확인\n",
    "pred = pd.DataFrame(logit_reg.predict_proba(X), columns=loan_data[outcome].cat.categories)\n",
    "pred.describe()\n"
   ]
  }
 ],
 "metadata": {
  "kernelspec": {
   "display_name": "base",
   "language": "python",
   "name": "python3"
  },
  "language_info": {
   "codemirror_mode": {
    "name": "ipython",
    "version": 3
   },
   "file_extension": ".py",
   "mimetype": "text/x-python",
   "name": "python",
   "nbconvert_exporter": "python",
   "pygments_lexer": "ipython3",
   "version": "3.9.16"
  },
  "orig_nbformat": 4
 },
 "nbformat": 4,
 "nbformat_minor": 2
}
