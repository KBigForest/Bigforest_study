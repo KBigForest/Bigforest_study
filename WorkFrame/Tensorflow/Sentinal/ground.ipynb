{
 "cells": [
  {
   "cell_type": "code",
   "execution_count": 1,
   "metadata": {},
   "outputs": [],
   "source": [
    "import tensorflow as tf\n",
    "import numpy as np\n",
    "import json\n",
    "import matplotlib.pyplot as plt\n",
    "import tensorflow_datasets as tfd"
   ]
  },
  {
   "cell_type": "code",
   "execution_count": 2,
   "metadata": {},
   "outputs": [
    {
     "name": "stdout",
     "output_type": "stream",
     "text": [
      "\u001b[1mDownloading and preparing dataset eurosat (?? GiB) to ./dataset/eurosat\\rgb\\0.0.1...\u001b[0m\n"
     ]
    },
    {
     "name": "stderr",
     "output_type": "stream",
     "text": [
      "Dl Completed...: 0 url [00:00, ? url/s]\n",
      "Dl Completed...: 0 url [00:00, ? url/s]\n",
      "\u001b[A"
     ]
    },
    {
     "ename": "",
     "evalue": "",
     "output_type": "error",
     "traceback": [
      "\u001b[1;31mCanceled future for execute_request message before replies were done"
     ]
    },
    {
     "ename": "",
     "evalue": "",
     "output_type": "error",
     "traceback": [
      "\u001b[1;31mThe Kernel crashed while executing code in the the current cell or a previous cell. Please review the code in the cell(s) to identify a possible cause of the failure. Click <a href='https://aka.ms/vscodeJupyterKernelCrash'>here</a> for more info. View Jupyter <a href='command:jupyter.viewOutput'>log</a> for further details."
     ]
    }
   ],
   "source": [
    "(train_ds, valid_ds), info = tfd.load(\n",
    "    \"eurosat/rgb\",\n",
    "    split=[\"train[:80%]\", \"train[80%:]\"],\n",
    "    shuffle_files=True,\n",
    "    as_supervised=True,\n",
    "    with_info=True,\n",
    "    data_dir=\"./dataset/\"\n",
    ")"
   ]
  },
  {
   "attachments": {},
   "cell_type": "markdown",
   "metadata": {},
   "source": [
    "---\n",
    "### 데이터 전처리\n",
    "- 1) 데이터셋의 정규화 => 이미지의 경우 255로 나누어서 정규화\n",
    "- 2) autotune사용으로 병렬연산 최적화\n",
    "- 3) 데이터셋의 shuffle을 통해 입력 순서에 무작위성을 부여하는 개념이다.\n",
    "---"
   ]
  },
  {
   "cell_type": "code",
   "execution_count": null,
   "metadata": {},
   "outputs": [],
   "source": [
    "Batch_size = 64\n",
    "Buffer_size = 1000\n",
    "#buffer_size의 경우 데이터 셋의 크기가 작은 경우에는 전체 데이터셋의 개수만큼 지정해주는 것이 무작위성을 확보하는데 유리\n",
    "\n",
    "def preprocess_data(image,label):\n",
    "    image = tf.cast(image, tf.float32)/255.\n",
    "    return image,label\n",
    "train_data = train_ds.map(preprocess_data, num_parallel_calls=tf.data.AUTOTUNE )\n",
    "valid_data = valid_ds.map(preprocess_data, num_parallel_calls=tf.data.AUTOTUNE )\n",
    "train_data = train_data.shuffle(Buffer_size).batch(Batch_size).prefatch(tf.data.AUTOTUNE)\n",
    "valid_data = valid_data.batch(Batch_size).cache().prefatch(tf.data.AUTOTUNE)\n"
   ]
  },
  {
   "attachments": {},
   "cell_type": "markdown",
   "metadata": {},
   "source": [
    "### 전이학습 적용"
   ]
  },
  {
   "cell_type": "code",
   "execution_count": null,
   "metadata": {},
   "outputs": [],
   "source": [
    "class M"
   ]
  }
 ],
 "metadata": {
  "kernelspec": {
   "display_name": "hikeras",
   "language": "python",
   "name": "python3"
  },
  "language_info": {
   "codemirror_mode": {
    "name": "ipython",
    "version": 3
   },
   "file_extension": ".py",
   "mimetype": "text/x-python",
   "name": "python",
   "nbconvert_exporter": "python",
   "pygments_lexer": "ipython3",
   "version": "3.6.13"
  },
  "orig_nbformat": 4
 },
 "nbformat": 4,
 "nbformat_minor": 2
}
