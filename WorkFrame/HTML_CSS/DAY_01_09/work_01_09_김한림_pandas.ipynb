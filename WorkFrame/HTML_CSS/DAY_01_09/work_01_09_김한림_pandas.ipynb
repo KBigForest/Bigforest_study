{
 "cells": [
  {
   "cell_type": "code",
   "execution_count": 1,
   "metadata": {},
   "outputs": [
    {
     "data": {
      "text/plain": [
       "[    과일  색상     가격\n",
       " 0   사과  빨강  1500원\n",
       " 1   사과  초록  1000원\n",
       " 2  바나나  노랑  3000원\n",
       " 3  바나나  초록  2000원,\n",
       "      국가   도시     언어\n",
       " 0    한국   서울    한국어\n",
       " 1    미국   뉴욕     영어\n",
       " 2  이탈리아  피렌체  이탈리아어\n",
       " 3   프랑스   파리     불어,\n",
       "   한국어        영어\n",
       " 0  1월   January\n",
       " 1  2월  Feburary\n",
       " 2  3월     March,\n",
       "               [Python] 리스트 정렬하기 :: sort / sorted (0)  2021.02.10\n",
       " 0    [Python] 영문 > 한글 키보드 입력 변환하기 :: 자모결합 / 자소결합 (0)  2021.01.29\n",
       " 1  [Python] for문(반복문) 진행상황 표시 :: tqdm / tqdm_note...  2021.01.28\n",
       " 2  [Python] has no attribute 'compat' (most likel...  2020.10.05\n",
       " 3               [Python] 위경도 거리 구하기 :: haversine (1)  2020.01.28]"
      ]
     },
     "execution_count": 1,
     "metadata": {},
     "output_type": "execute_result"
    }
   ],
   "source": [
    "import pandas as pd\n",
    "import lxml\n",
    "table = pd.read_html('https://mizykk.tistory.com/39', header=0, encoding='utf-8')\n",
    "table"
   ]
  },
  {
   "cell_type": "code",
   "execution_count": 2,
   "metadata": {},
   "outputs": [
    {
     "data": {
      "text/html": [
       "<div>\n",
       "<style scoped>\n",
       "    .dataframe tbody tr th:only-of-type {\n",
       "        vertical-align: middle;\n",
       "    }\n",
       "\n",
       "    .dataframe tbody tr th {\n",
       "        vertical-align: top;\n",
       "    }\n",
       "\n",
       "    .dataframe thead th {\n",
       "        text-align: right;\n",
       "    }\n",
       "</style>\n",
       "<table border=\"1\" class=\"dataframe\">\n",
       "  <thead>\n",
       "    <tr style=\"text-align: right;\">\n",
       "      <th></th>\n",
       "      <th>과일</th>\n",
       "      <th>색상</th>\n",
       "      <th>가격</th>\n",
       "    </tr>\n",
       "  </thead>\n",
       "  <tbody>\n",
       "    <tr>\n",
       "      <th>0</th>\n",
       "      <td>사과</td>\n",
       "      <td>빨강</td>\n",
       "      <td>1500원</td>\n",
       "    </tr>\n",
       "    <tr>\n",
       "      <th>1</th>\n",
       "      <td>사과</td>\n",
       "      <td>초록</td>\n",
       "      <td>1000원</td>\n",
       "    </tr>\n",
       "    <tr>\n",
       "      <th>2</th>\n",
       "      <td>바나나</td>\n",
       "      <td>노랑</td>\n",
       "      <td>3000원</td>\n",
       "    </tr>\n",
       "    <tr>\n",
       "      <th>3</th>\n",
       "      <td>바나나</td>\n",
       "      <td>초록</td>\n",
       "      <td>2000원</td>\n",
       "    </tr>\n",
       "  </tbody>\n",
       "</table>\n",
       "</div>"
      ],
      "text/plain": [
       "    과일  색상     가격\n",
       "0   사과  빨강  1500원\n",
       "1   사과  초록  1000원\n",
       "2  바나나  노랑  3000원\n",
       "3  바나나  초록  2000원"
      ]
     },
     "execution_count": 2,
     "metadata": {},
     "output_type": "execute_result"
    }
   ],
   "source": [
    "table[0]"
   ]
  },
  {
   "cell_type": "code",
   "execution_count": null,
   "metadata": {},
   "outputs": [],
   "source": []
  }
 ],
 "metadata": {
  "kernelspec": {
   "display_name": "MYSERVER",
   "language": "python",
   "name": "python3"
  },
  "language_info": {
   "codemirror_mode": {
    "name": "ipython",
    "version": 3
   },
   "file_extension": ".py",
   "mimetype": "text/x-python",
   "name": "python",
   "nbconvert_exporter": "python",
   "pygments_lexer": "ipython3",
   "version": "3.9.15 (main, Nov 24 2022, 14:39:17) [MSC v.1916 64 bit (AMD64)]"
  },
  "orig_nbformat": 4,
  "vscode": {
   "interpreter": {
    "hash": "ecd6e4450362f651730351ea55474b45928e2be81716b3508c6578b713688137"
   }
  }
 },
 "nbformat": 4,
 "nbformat_minor": 2
}
