{
 "cells": [
  {
   "attachments": {},
   "cell_type": "markdown",
   "metadata": {},
   "source": [
    "### 비지도 학습\n",
    "- 데이터만 존재하는 경우 학습방법\n",
    "- 타겟(라벨, 정답)이 없는 데이터\n",
    "- 분류 기준\n",
    "    * 유사도(데이터의 거리)\n",
    "    * 분산(데이터 사이의 분포)\n",
    "- 평가 기준\n",
    "    * 유사도와 분산을 기본으로 계산 진행\n",
    "    * 계산 방법 다양 ==> 평가지표 계수 존재..\n",
    "- 종류\n",
    "    * 군집화 ==> 분할, 계층\n",
    "    * 성분 분석 ==> 주성분 분석\n",
    "    * 밀도 분류 ==> DBSCAN\n",
    "- 용도\n",
    "    * 지도학습의 전처리로 활용\n",
    "    * 비지도학습으로 분류 후 지도학습으로 최종 평가 기능"
   ]
  },
  {
   "attachments": {},
   "cell_type": "markdown",
   "metadata": {},
   "source": [
    "### 군집화 => 분할 방식의 K-Means\n",
    "- k개의 임의의 점을 중심으로 데이터와 거리 측정 후 군집 설정\n",
    "- 설정된 군집의 평균값의 계산 ==> 중심점 이동 ==> 다시 군집 설정\n",
    "- 반복해서 진행\n",
    "- 타원형으로만 군집이 가능함\n"
   ]
  },
  {
   "attachments": {},
   "cell_type": "markdown",
   "metadata": {},
   "source": [
    "#### [1] iris 기반 실습"
   ]
  },
  {
   "cell_type": "code",
   "execution_count": 3,
   "metadata": {},
   "outputs": [],
   "source": [
    "from sklearn.datasets import load_iris\n",
    "from sklearn.cluster import KMeans\n",
    "import pandas as pd\n",
    "import matplotlib.pyplot as plt"
   ]
  },
  {
   "cell_type": "code",
   "execution_count": 28,
   "metadata": {},
   "outputs": [
    {
     "data": {
      "text/html": [
       "<div>\n",
       "<style scoped>\n",
       "    .dataframe tbody tr th:only-of-type {\n",
       "        vertical-align: middle;\n",
       "    }\n",
       "\n",
       "    .dataframe tbody tr th {\n",
       "        vertical-align: top;\n",
       "    }\n",
       "\n",
       "    .dataframe thead th {\n",
       "        text-align: right;\n",
       "    }\n",
       "</style>\n",
       "<table border=\"1\" class=\"dataframe\">\n",
       "  <thead>\n",
       "    <tr style=\"text-align: right;\">\n",
       "      <th></th>\n",
       "      <th>sepal length (cm)</th>\n",
       "      <th>sepal width (cm)</th>\n",
       "      <th>petal length (cm)</th>\n",
       "      <th>petal width (cm)</th>\n",
       "    </tr>\n",
       "  </thead>\n",
       "  <tbody>\n",
       "    <tr>\n",
       "      <th>0</th>\n",
       "      <td>5.1</td>\n",
       "      <td>3.5</td>\n",
       "      <td>1.4</td>\n",
       "      <td>0.2</td>\n",
       "    </tr>\n",
       "    <tr>\n",
       "      <th>1</th>\n",
       "      <td>4.9</td>\n",
       "      <td>3.0</td>\n",
       "      <td>1.4</td>\n",
       "      <td>0.2</td>\n",
       "    </tr>\n",
       "    <tr>\n",
       "      <th>2</th>\n",
       "      <td>4.7</td>\n",
       "      <td>3.2</td>\n",
       "      <td>1.3</td>\n",
       "      <td>0.2</td>\n",
       "    </tr>\n",
       "    <tr>\n",
       "      <th>3</th>\n",
       "      <td>4.6</td>\n",
       "      <td>3.1</td>\n",
       "      <td>1.5</td>\n",
       "      <td>0.2</td>\n",
       "    </tr>\n",
       "    <tr>\n",
       "      <th>4</th>\n",
       "      <td>5.0</td>\n",
       "      <td>3.6</td>\n",
       "      <td>1.4</td>\n",
       "      <td>0.2</td>\n",
       "    </tr>\n",
       "    <tr>\n",
       "      <th>...</th>\n",
       "      <td>...</td>\n",
       "      <td>...</td>\n",
       "      <td>...</td>\n",
       "      <td>...</td>\n",
       "    </tr>\n",
       "    <tr>\n",
       "      <th>145</th>\n",
       "      <td>6.7</td>\n",
       "      <td>3.0</td>\n",
       "      <td>5.2</td>\n",
       "      <td>2.3</td>\n",
       "    </tr>\n",
       "    <tr>\n",
       "      <th>146</th>\n",
       "      <td>6.3</td>\n",
       "      <td>2.5</td>\n",
       "      <td>5.0</td>\n",
       "      <td>1.9</td>\n",
       "    </tr>\n",
       "    <tr>\n",
       "      <th>147</th>\n",
       "      <td>6.5</td>\n",
       "      <td>3.0</td>\n",
       "      <td>5.2</td>\n",
       "      <td>2.0</td>\n",
       "    </tr>\n",
       "    <tr>\n",
       "      <th>148</th>\n",
       "      <td>6.2</td>\n",
       "      <td>3.4</td>\n",
       "      <td>5.4</td>\n",
       "      <td>2.3</td>\n",
       "    </tr>\n",
       "    <tr>\n",
       "      <th>149</th>\n",
       "      <td>5.9</td>\n",
       "      <td>3.0</td>\n",
       "      <td>5.1</td>\n",
       "      <td>1.8</td>\n",
       "    </tr>\n",
       "  </tbody>\n",
       "</table>\n",
       "<p>150 rows × 4 columns</p>\n",
       "</div>"
      ],
      "text/plain": [
       "     sepal length (cm)  sepal width (cm)  petal length (cm)  petal width (cm)\n",
       "0                  5.1               3.5                1.4               0.2\n",
       "1                  4.9               3.0                1.4               0.2\n",
       "2                  4.7               3.2                1.3               0.2\n",
       "3                  4.6               3.1                1.5               0.2\n",
       "4                  5.0               3.6                1.4               0.2\n",
       "..                 ...               ...                ...               ...\n",
       "145                6.7               3.0                5.2               2.3\n",
       "146                6.3               2.5                5.0               1.9\n",
       "147                6.5               3.0                5.2               2.0\n",
       "148                6.2               3.4                5.4               2.3\n",
       "149                5.9               3.0                5.1               1.8\n",
       "\n",
       "[150 rows x 4 columns]"
      ]
     },
     "execution_count": 28,
     "metadata": {},
     "output_type": "execute_result"
    }
   ],
   "source": [
    "iris_data = load_iris().data\n",
    "columns = load_iris().feature_names\n",
    "irisDF = pd.DataFrame(iris_data, columns=columns)\n",
    "irisDF"
   ]
  },
  {
   "attachments": {},
   "cell_type": "markdown",
   "metadata": {},
   "source": [
    "#### [2] 데이터 분류 진행 ==> Kmeans"
   ]
  },
  {
   "cell_type": "code",
   "execution_count": 39,
   "metadata": {},
   "outputs": [],
   "source": [
    "kModel = KMeans(n_init='auto',max_iter=300, n_clusters=3)"
   ]
  },
  {
   "cell_type": "code",
   "execution_count": 40,
   "metadata": {},
   "outputs": [
    {
     "name": "stderr",
     "output_type": "stream",
     "text": [
      "c:\\Users\\dddf\\anaconda3\\lib\\site-packages\\sklearn\\cluster\\_kmeans.py:1382: UserWarning: KMeans is known to have a memory leak on Windows with MKL, when there are less chunks than available threads. You can avoid it by setting the environment variable OMP_NUM_THREADS=1.\n",
      "  warnings.warn(\n"
     ]
    },
    {
     "data": {
      "text/plain": [
       "array([[0.19553803, 7.18496963, 5.2240029 ],\n",
       "       [0.58383642, 7.25923081, 5.19006054],\n",
       "       [0.58954565, 7.49484323, 5.41709399],\n",
       "       [0.73881149, 7.31877365, 5.22294435],\n",
       "       [0.24796852, 7.24779465, 5.28479839],\n",
       "       [0.94450662, 6.65438227, 4.86915367],\n",
       "       [0.53169697, 7.39684631, 5.33970692],\n",
       "       [0.07349138, 7.105422  , 5.1150313 ],\n",
       "       [1.14156198, 7.56449755, 5.41843592],\n",
       "       [0.48509568, 7.19364626, 5.13937925],\n",
       "       [0.67632437, 6.95715825, 5.10297931],\n",
       "       [0.31030687, 7.09629932, 5.07703082],\n",
       "       [0.67297949, 7.3666372 , 5.27990507],\n",
       "       [1.29042203, 8.01827073, 5.85921188],\n",
       "       [1.41573004, 7.24704509, 5.52473949],\n",
       "       [1.68324823, 6.93657731, 5.31981294],\n",
       "       [0.90137779, 7.14223248, 5.32070393],\n",
       "       [0.18827348, 7.13464702, 5.1773347 ],\n",
       "       [1.15781333, 6.56364557, 4.83032785],\n",
       "       [0.50858809, 7.06053095, 5.16397853],\n",
       "       [0.60439584, 6.66914665, 4.77482774],\n",
       "       [0.4199303 , 6.99346425, 5.0825294 ],\n",
       "       [0.86151403, 7.93635871, 5.8885221 ],\n",
       "       [0.51986585, 6.65656165, 4.69302438],\n",
       "       [0.60943819, 6.74721197, 4.74770826],\n",
       "       [0.57992244, 6.96747213, 4.92399659],\n",
       "       [0.27804207, 6.88627117, 4.90917443],\n",
       "       [0.2899405 , 7.01612306, 5.08132036],\n",
       "       [0.24303666, 7.12468489, 5.16675949],\n",
       "       [0.56330581, 7.14385786, 5.07976612],\n",
       "       [0.57479797, 7.08267598, 5.02010644],\n",
       "       [0.53258388, 6.80921361, 4.90841176],\n",
       "       [0.94842047, 7.18427211, 5.36056222],\n",
       "       [1.28917114, 7.16102095, 5.42376928],\n",
       "       [0.46891746, 7.14249956, 5.0906936 ],\n",
       "       [0.43318058, 7.4493047 , 5.4145334 ],\n",
       "       [0.66688458, 7.12520944, 5.2424117 ],\n",
       "       [0.31156922, 7.35016935, 5.36594015],\n",
       "       [1.07420244, 7.67576484, 5.53624703],\n",
       "       [0.13184389, 7.05393087, 5.08227487],\n",
       "       [0.23656054, 7.30529521, 5.32367624],\n",
       "       [1.69749349, 7.62817846, 5.44624597],\n",
       "       [0.92600558, 7.67501051, 5.55813431],\n",
       "       [0.45349615, 6.80116755, 4.85105381],\n",
       "       [0.78141666, 6.53260613, 4.67494996],\n",
       "       [0.65736781, 7.2671143 , 5.18569007],\n",
       "       [0.52644977, 6.9917683 , 5.09878165],\n",
       "       [0.66107979, 7.43643916, 5.34884734],\n",
       "       [0.56991056, 7.00074977, 5.12384527],\n",
       "       [0.18169466, 7.21628605, 5.2049729 ],\n",
       "       [5.70192172, 1.67073093, 1.99308535],\n",
       "       [5.4399781 , 2.23752187, 0.99382747],\n",
       "       [5.92034768, 1.34373705, 1.94018893],\n",
       "       [4.70016928, 3.58343245, 0.99482657],\n",
       "       [5.65475679, 2.09191079, 0.88084314],\n",
       "       [5.13542919, 2.79984837, 0.27527217],\n",
       "       [5.6556237 , 2.03954625, 1.08305114],\n",
       "       [3.74555975, 4.84137   , 2.21637857],\n",
       "       [5.60085846, 2.14625624, 1.02863447],\n",
       "       [4.4288524 , 3.7605545 , 1.14757921],\n",
       "       [4.17612485, 4.70465358, 2.13499483],\n",
       "       [4.90784692, 2.83342426, 0.42745871],\n",
       "       [4.74424628, 3.40043659, 0.92420828],\n",
       "       [5.52714358, 2.25189835, 0.56124952],\n",
       "       [4.07501004, 3.77873893, 1.20680627],\n",
       "       [5.45563847, 2.28733631, 1.22617459],\n",
       "       [5.15185211, 2.75651618, 0.40587488],\n",
       "       [4.60965898, 3.2856837 , 0.68203928],\n",
       "       [5.58050358, 2.57158781, 0.72946399],\n",
       "       [4.43968378, 3.62521289, 0.96828716],\n",
       "       [5.7107002 , 2.1140951 , 0.8820264 ],\n",
       "       [4.71305683, 3.03776826, 0.61892194],\n",
       "       [5.97706652, 2.01798907, 0.94733541],\n",
       "       [5.46156564, 2.37563281, 0.538522  ],\n",
       "       [5.16335002, 2.54692541, 0.74250118],\n",
       "       [5.40892428, 2.30716681, 1.03554761],\n",
       "       [5.99047751, 1.83714842, 1.33776127],\n",
       "       [6.02760958, 1.13520738, 1.82560368],\n",
       "       [5.30435363, 2.46704162, 0.32505352],\n",
       "       [3.95760129, 4.00292999, 1.40587312],\n",
       "       [4.35043241, 3.82868805, 1.18306594],\n",
       "       [4.20156087, 3.97568726, 1.3339157 ],\n",
       "       [4.47116278, 3.39228239, 0.76334338],\n",
       "       [6.09432246, 1.96794244, 1.03301452],\n",
       "       [5.10214304, 2.92759131, 0.58909779],\n",
       "       [5.28668899, 2.42765473, 0.88548031],\n",
       "       [5.83137587, 1.90979824, 1.32332959],\n",
       "       [5.38152781, 2.64034888, 0.64032262],\n",
       "       [4.59997135, 3.23457178, 0.65496684],\n",
       "       [4.6161563 , 3.51328063, 0.86385072],\n",
       "       [4.98685456, 3.15482213, 0.61437981],\n",
       "       [5.39381881, 2.33666576, 0.54662814],\n",
       "       [4.61257484, 3.30864538, 0.6537637 ],\n",
       "       [3.79764439, 4.79043454, 2.16554488],\n",
       "       [4.79279595, 3.18492867, 0.51093199],\n",
       "       [4.69906181, 3.10774456, 0.56287692],\n",
       "       [4.76597004, 3.0710145 , 0.44482608],\n",
       "       [5.06860225, 2.6456569 , 0.52332758],\n",
       "       [3.4460202 , 4.9330421 , 2.3159852 ],\n",
       "       [4.67859759, 3.18842996, 0.52274362],\n",
       "       [7.42773828, 0.86672087, 2.96679326],\n",
       "       [6.17917197, 2.05982685, 1.16304201],\n",
       "       [7.50883731, 0.42496782, 3.0881969 ],\n",
       "       [6.62699302, 0.87305998, 2.1279827 ],\n",
       "       [7.14347813, 0.50830936, 2.63576261],\n",
       "       [8.62281579, 1.58983824, 4.19353695],\n",
       "       [5.30463165, 3.49794544, 1.36783123],\n",
       "       [7.96681438, 0.9933213 , 3.52559739],\n",
       "       [7.12676105, 0.83476483, 2.56885919],\n",
       "       [7.98056797, 1.15087002, 3.72083508],\n",
       "       [6.17448495, 0.9959137 , 1.93344337],\n",
       "       [6.39294402, 1.03871534, 1.90361676],\n",
       "       [6.87473334, 0.30561364, 2.47692392],\n",
       "       [6.14670584, 2.29862828, 1.20284634],\n",
       "       [6.42745192, 1.98146913, 1.52942679],\n",
       "       [6.52867176, 0.82074038, 2.18979692],\n",
       "       [6.57610733, 0.67324179, 2.14575846],\n",
       "       [8.84257488, 2.08415342, 4.64565266],\n",
       "       [9.1753486 , 2.12310121, 4.63890418],\n",
       "       [6.08615091, 2.34126826, 1.12796012],\n",
       "       [7.24990565, 0.30916728, 2.88476998],\n",
       "       [5.91905676, 2.32547538, 1.01250943],\n",
       "       [8.77304118, 1.7692417 , 4.31580867],\n",
       "       [6.07007865, 1.82324401, 1.05325915],\n",
       "       [7.03490976, 0.29082782, 2.67910656],\n",
       "       [7.52607114, 0.65905408, 3.2042113 ],\n",
       "       [5.89336253, 1.94836969, 0.88378014],\n",
       "       [5.93145559, 1.88942391, 0.97291287],\n",
       "       [6.83911241, 0.76271466, 2.3067786 ],\n",
       "       [7.21307367, 0.61397312, 2.9017363 ],\n",
       "       [7.84102043, 0.8955477 , 3.41810926],\n",
       "       [8.53623497, 2.02017083, 4.47684343],\n",
       "       [6.89225435, 0.77047573, 2.35972782],\n",
       "       [6.13907523, 1.74851984, 1.15274397],\n",
       "       [6.43300699, 1.46795222, 1.95153521],\n",
       "       [8.19292266, 1.27859028, 3.8596088 ],\n",
       "       [6.88132727, 0.77659592, 2.53304636],\n",
       "       [6.51698598, 0.75010572, 2.10851426],\n",
       "       [5.77792375, 2.05324042, 0.81548574],\n",
       "       [6.79967939, 0.41353782, 2.49051407],\n",
       "       [7.09278649, 0.40808946, 2.6792474 ],\n",
       "       [6.55993721, 0.80015297, 2.35482113],\n",
       "       [6.17917197, 2.05982685, 1.16304201],\n",
       "       [7.4356731 , 0.39950447, 3.00925036],\n",
       "       [7.24951815, 0.52810026, 2.88317115],\n",
       "       [6.57879968, 0.72470969, 2.24615086],\n",
       "       [6.28448721, 1.80773701, 1.25147696],\n",
       "       [6.31636557, 0.88126933, 1.9496029 ],\n",
       "       [6.54223109, 0.95668451, 2.24354654],\n",
       "       [6.09249731, 1.89295023, 1.11108686]])"
      ]
     },
     "execution_count": 40,
     "metadata": {},
     "output_type": "execute_result"
    }
   ],
   "source": [
    "kModel.fit_transform(irisDF)"
   ]
  },
  {
   "cell_type": "code",
   "execution_count": 19,
   "metadata": {},
   "outputs": [
    {
     "name": "stdout",
     "output_type": "stream",
     "text": [
      "[0 0 0 0 0 0 0 0 0 0 0 0 0 0 0 0 0 0 0 0 0 0 0 0 0 0 0 0 0 0 0 0 0 0 0 0 0\n",
      " 0 0 0 0 0 0 0 0 0 0 0 0 0 1 2 1 2 2 2 2 2 2 2 2 2 2 2 2 2 2 2 2 2 2 2 2 2\n",
      " 2 2 2 1 2 2 2 2 2 2 2 2 2 2 2 2 2 2 2 2 2 2 2 2 2 2 1 2 1 1 1 1 2 1 1 1 1\n",
      " 1 1 2 2 1 1 1 1 2 1 2 1 2 1 1 2 2 1 1 1 1 1 2 1 1 1 1 2 1 1 1 2 1 1 1 2 1\n",
      " 1 2]\n",
      "78.8556658259773\n"
     ]
    }
   ],
   "source": [
    "print(kModel.labels_)\n",
    "print(kModel.inertia_)"
   ]
  },
  {
   "attachments": {},
   "cell_type": "markdown",
   "metadata": {},
   "source": [
    "#### [4] iris 데이터셍의 target이랑 kmeans의 labels 값의 비교"
   ]
  },
  {
   "cell_type": "code",
   "execution_count": 43,
   "metadata": {},
   "outputs": [],
   "source": [
    "irisDF['target'] = load_iris().target"
   ]
  },
  {
   "cell_type": "code",
   "execution_count": 44,
   "metadata": {},
   "outputs": [],
   "source": [
    "irisDF['cluster'] = kModel.labels_"
   ]
  },
  {
   "cell_type": "code",
   "execution_count": 45,
   "metadata": {},
   "outputs": [
    {
     "data": {
      "text/plain": [
       "0    50\n",
       "1    50\n",
       "2    50\n",
       "Name: target, dtype: int64"
      ]
     },
     "execution_count": 45,
     "metadata": {},
     "output_type": "execute_result"
    }
   ],
   "source": [
    "irisDF['target'].value_counts()"
   ]
  },
  {
   "cell_type": "code",
   "execution_count": 46,
   "metadata": {},
   "outputs": [
    {
     "data": {
      "text/plain": [
       "2    61\n",
       "0    50\n",
       "1    39\n",
       "Name: cluster, dtype: int64"
      ]
     },
     "execution_count": 46,
     "metadata": {},
     "output_type": "execute_result"
    }
   ],
   "source": [
    "irisDF['cluster'].value_counts()"
   ]
  },
  {
   "cell_type": "code",
   "execution_count": 47,
   "metadata": {},
   "outputs": [
    {
     "data": {
      "text/plain": [
       "array([[5.1, 3.5, 1.4, 0.2],\n",
       "       [4.9, 3. , 1.4, 0.2],\n",
       "       [4.7, 3.2, 1.3, 0.2],\n",
       "       [4.6, 3.1, 1.5, 0.2],\n",
       "       [5. , 3.6, 1.4, 0.2],\n",
       "       [5.4, 3.9, 1.7, 0.4],\n",
       "       [4.6, 3.4, 1.4, 0.3],\n",
       "       [5. , 3.4, 1.5, 0.2],\n",
       "       [4.4, 2.9, 1.4, 0.2],\n",
       "       [4.9, 3.1, 1.5, 0.1],\n",
       "       [5.4, 3.7, 1.5, 0.2],\n",
       "       [4.8, 3.4, 1.6, 0.2],\n",
       "       [4.8, 3. , 1.4, 0.1],\n",
       "       [4.3, 3. , 1.1, 0.1],\n",
       "       [5.8, 4. , 1.2, 0.2],\n",
       "       [5.7, 4.4, 1.5, 0.4],\n",
       "       [5.4, 3.9, 1.3, 0.4],\n",
       "       [5.1, 3.5, 1.4, 0.3],\n",
       "       [5.7, 3.8, 1.7, 0.3],\n",
       "       [5.1, 3.8, 1.5, 0.3],\n",
       "       [5.4, 3.4, 1.7, 0.2],\n",
       "       [5.1, 3.7, 1.5, 0.4],\n",
       "       [4.6, 3.6, 1. , 0.2],\n",
       "       [5.1, 3.3, 1.7, 0.5],\n",
       "       [4.8, 3.4, 1.9, 0.2],\n",
       "       [5. , 3. , 1.6, 0.2],\n",
       "       [5. , 3.4, 1.6, 0.4],\n",
       "       [5.2, 3.5, 1.5, 0.2],\n",
       "       [5.2, 3.4, 1.4, 0.2],\n",
       "       [4.7, 3.2, 1.6, 0.2],\n",
       "       [4.8, 3.1, 1.6, 0.2],\n",
       "       [5.4, 3.4, 1.5, 0.4],\n",
       "       [5.2, 4.1, 1.5, 0.1],\n",
       "       [5.5, 4.2, 1.4, 0.2],\n",
       "       [4.9, 3.1, 1.5, 0.2],\n",
       "       [5. , 3.2, 1.2, 0.2],\n",
       "       [5.5, 3.5, 1.3, 0.2],\n",
       "       [4.9, 3.6, 1.4, 0.1],\n",
       "       [4.4, 3. , 1.3, 0.2],\n",
       "       [5.1, 3.4, 1.5, 0.2],\n",
       "       [5. , 3.5, 1.3, 0.3],\n",
       "       [4.5, 2.3, 1.3, 0.3],\n",
       "       [4.4, 3.2, 1.3, 0.2],\n",
       "       [5. , 3.5, 1.6, 0.6],\n",
       "       [5.1, 3.8, 1.9, 0.4],\n",
       "       [4.8, 3. , 1.4, 0.3],\n",
       "       [5.1, 3.8, 1.6, 0.2],\n",
       "       [4.6, 3.2, 1.4, 0.2],\n",
       "       [5.3, 3.7, 1.5, 0.2],\n",
       "       [5. , 3.3, 1.4, 0.2],\n",
       "       [7. , 3.2, 4.7, 1.4],\n",
       "       [6.4, 3.2, 4.5, 1.5],\n",
       "       [6.9, 3.1, 4.9, 1.5],\n",
       "       [5.5, 2.3, 4. , 1.3],\n",
       "       [6.5, 2.8, 4.6, 1.5],\n",
       "       [5.7, 2.8, 4.5, 1.3],\n",
       "       [6.3, 3.3, 4.7, 1.6],\n",
       "       [4.9, 2.4, 3.3, 1. ],\n",
       "       [6.6, 2.9, 4.6, 1.3],\n",
       "       [5.2, 2.7, 3.9, 1.4],\n",
       "       [5. , 2. , 3.5, 1. ],\n",
       "       [5.9, 3. , 4.2, 1.5],\n",
       "       [6. , 2.2, 4. , 1. ],\n",
       "       [6.1, 2.9, 4.7, 1.4],\n",
       "       [5.6, 2.9, 3.6, 1.3],\n",
       "       [6.7, 3.1, 4.4, 1.4],\n",
       "       [5.6, 3. , 4.5, 1.5],\n",
       "       [5.8, 2.7, 4.1, 1. ],\n",
       "       [6.2, 2.2, 4.5, 1.5],\n",
       "       [5.6, 2.5, 3.9, 1.1],\n",
       "       [5.9, 3.2, 4.8, 1.8],\n",
       "       [6.1, 2.8, 4. , 1.3],\n",
       "       [6.3, 2.5, 4.9, 1.5],\n",
       "       [6.1, 2.8, 4.7, 1.2],\n",
       "       [6.4, 2.9, 4.3, 1.3],\n",
       "       [6.6, 3. , 4.4, 1.4],\n",
       "       [6.8, 2.8, 4.8, 1.4],\n",
       "       [6.7, 3. , 5. , 1.7],\n",
       "       [6. , 2.9, 4.5, 1.5],\n",
       "       [5.7, 2.6, 3.5, 1. ],\n",
       "       [5.5, 2.4, 3.8, 1.1],\n",
       "       [5.5, 2.4, 3.7, 1. ],\n",
       "       [5.8, 2.7, 3.9, 1.2],\n",
       "       [6. , 2.7, 5.1, 1.6],\n",
       "       [5.4, 3. , 4.5, 1.5],\n",
       "       [6. , 3.4, 4.5, 1.6],\n",
       "       [6.7, 3.1, 4.7, 1.5],\n",
       "       [6.3, 2.3, 4.4, 1.3],\n",
       "       [5.6, 3. , 4.1, 1.3],\n",
       "       [5.5, 2.5, 4. , 1.3],\n",
       "       [5.5, 2.6, 4.4, 1.2],\n",
       "       [6.1, 3. , 4.6, 1.4],\n",
       "       [5.8, 2.6, 4. , 1.2],\n",
       "       [5. , 2.3, 3.3, 1. ],\n",
       "       [5.6, 2.7, 4.2, 1.3],\n",
       "       [5.7, 3. , 4.2, 1.2],\n",
       "       [5.7, 2.9, 4.2, 1.3],\n",
       "       [6.2, 2.9, 4.3, 1.3],\n",
       "       [5.1, 2.5, 3. , 1.1],\n",
       "       [5.7, 2.8, 4.1, 1.3],\n",
       "       [6.3, 3.3, 6. , 2.5],\n",
       "       [5.8, 2.7, 5.1, 1.9],\n",
       "       [7.1, 3. , 5.9, 2.1],\n",
       "       [6.3, 2.9, 5.6, 1.8],\n",
       "       [6.5, 3. , 5.8, 2.2],\n",
       "       [7.6, 3. , 6.6, 2.1],\n",
       "       [4.9, 2.5, 4.5, 1.7],\n",
       "       [7.3, 2.9, 6.3, 1.8],\n",
       "       [6.7, 2.5, 5.8, 1.8],\n",
       "       [7.2, 3.6, 6.1, 2.5],\n",
       "       [6.5, 3.2, 5.1, 2. ],\n",
       "       [6.4, 2.7, 5.3, 1.9],\n",
       "       [6.8, 3. , 5.5, 2.1],\n",
       "       [5.7, 2.5, 5. , 2. ],\n",
       "       [5.8, 2.8, 5.1, 2.4],\n",
       "       [6.4, 3.2, 5.3, 2.3],\n",
       "       [6.5, 3. , 5.5, 1.8],\n",
       "       [7.7, 3.8, 6.7, 2.2],\n",
       "       [7.7, 2.6, 6.9, 2.3],\n",
       "       [6. , 2.2, 5. , 1.5],\n",
       "       [6.9, 3.2, 5.7, 2.3],\n",
       "       [5.6, 2.8, 4.9, 2. ],\n",
       "       [7.7, 2.8, 6.7, 2. ],\n",
       "       [6.3, 2.7, 4.9, 1.8],\n",
       "       [6.7, 3.3, 5.7, 2.1],\n",
       "       [7.2, 3.2, 6. , 1.8],\n",
       "       [6.2, 2.8, 4.8, 1.8],\n",
       "       [6.1, 3. , 4.9, 1.8],\n",
       "       [6.4, 2.8, 5.6, 2.1],\n",
       "       [7.2, 3. , 5.8, 1.6],\n",
       "       [7.4, 2.8, 6.1, 1.9],\n",
       "       [7.9, 3.8, 6.4, 2. ],\n",
       "       [6.4, 2.8, 5.6, 2.2],\n",
       "       [6.3, 2.8, 5.1, 1.5],\n",
       "       [6.1, 2.6, 5.6, 1.4],\n",
       "       [7.7, 3. , 6.1, 2.3],\n",
       "       [6.3, 3.4, 5.6, 2.4],\n",
       "       [6.4, 3.1, 5.5, 1.8],\n",
       "       [6. , 3. , 4.8, 1.8],\n",
       "       [6.9, 3.1, 5.4, 2.1],\n",
       "       [6.7, 3.1, 5.6, 2.4],\n",
       "       [6.9, 3.1, 5.1, 2.3],\n",
       "       [5.8, 2.7, 5.1, 1.9],\n",
       "       [6.8, 3.2, 5.9, 2.3],\n",
       "       [6.7, 3.3, 5.7, 2.5],\n",
       "       [6.7, 3. , 5.2, 2.3],\n",
       "       [6.3, 2.5, 5. , 1.9],\n",
       "       [6.5, 3. , 5.2, 2. ],\n",
       "       [6.2, 3.4, 5.4, 2.3],\n",
       "       [5.9, 3. , 5.1, 1.8]])"
      ]
     },
     "execution_count": 47,
     "metadata": {},
     "output_type": "execute_result"
    }
   ],
   "source": [
    "iris_data"
   ]
  },
  {
   "cell_type": "code",
   "execution_count": 49,
   "metadata": {},
   "outputs": [],
   "source": [
    "from sklearn.decomposition import PCA\n",
    "pca = PCA(n_components=2)\n",
    "pca_transform = pca.fit_transform(iris_data)\n",
    "irisDF['pca_transform1'] = pca_transform[:,0]\n",
    "irisDF['pca_transform2'] = pca_transform[:,1]\n",
    "irisDF.drop(['pca_transform1', 'pca_transform2', 'cluster','target'],axis=1, inplace=True)\n"
   ]
  },
  {
   "attachments": {},
   "cell_type": "markdown",
   "metadata": {},
   "source": [
    "### [최적 K 방법1] : inertial 속성값으로 k 판단 => 값이 작을 수록 좋음, k 갯수에 따라 값의 변화가 큰 구간"
   ]
  },
  {
   "cell_type": "code",
   "execution_count": 50,
   "metadata": {},
   "outputs": [
    {
     "name": "stderr",
     "output_type": "stream",
     "text": [
      "c:\\Users\\dddf\\anaconda3\\lib\\site-packages\\sklearn\\cluster\\_kmeans.py:1382: UserWarning: KMeans is known to have a memory leak on Windows with MKL, when there are less chunks than available threads. You can avoid it by setting the environment variable OMP_NUM_THREADS=1.\n",
      "  warnings.warn(\n",
      "c:\\Users\\dddf\\anaconda3\\lib\\site-packages\\sklearn\\cluster\\_kmeans.py:1382: UserWarning: KMeans is known to have a memory leak on Windows with MKL, when there are less chunks than available threads. You can avoid it by setting the environment variable OMP_NUM_THREADS=1.\n",
      "  warnings.warn(\n",
      "c:\\Users\\dddf\\anaconda3\\lib\\site-packages\\sklearn\\cluster\\_kmeans.py:1382: UserWarning: KMeans is known to have a memory leak on Windows with MKL, when there are less chunks than available threads. You can avoid it by setting the environment variable OMP_NUM_THREADS=1.\n",
      "  warnings.warn(\n",
      "c:\\Users\\dddf\\anaconda3\\lib\\site-packages\\sklearn\\cluster\\_kmeans.py:1382: UserWarning: KMeans is known to have a memory leak on Windows with MKL, when there are less chunks than available threads. You can avoid it by setting the environment variable OMP_NUM_THREADS=1.\n",
      "  warnings.warn(\n",
      "c:\\Users\\dddf\\anaconda3\\lib\\site-packages\\sklearn\\cluster\\_kmeans.py:1382: UserWarning: KMeans is known to have a memory leak on Windows with MKL, when there are less chunks than available threads. You can avoid it by setting the environment variable OMP_NUM_THREADS=1.\n",
      "  warnings.warn(\n",
      "c:\\Users\\dddf\\anaconda3\\lib\\site-packages\\sklearn\\cluster\\_kmeans.py:1382: UserWarning: KMeans is known to have a memory leak on Windows with MKL, when there are less chunks than available threads. You can avoid it by setting the environment variable OMP_NUM_THREADS=1.\n",
      "  warnings.warn(\n",
      "c:\\Users\\dddf\\anaconda3\\lib\\site-packages\\sklearn\\cluster\\_kmeans.py:1382: UserWarning: KMeans is known to have a memory leak on Windows with MKL, when there are less chunks than available threads. You can avoid it by setting the environment variable OMP_NUM_THREADS=1.\n",
      "  warnings.warn(\n",
      "c:\\Users\\dddf\\anaconda3\\lib\\site-packages\\sklearn\\cluster\\_kmeans.py:1382: UserWarning: KMeans is known to have a memory leak on Windows with MKL, when there are less chunks than available threads. You can avoid it by setting the environment variable OMP_NUM_THREADS=1.\n",
      "  warnings.warn(\n",
      "c:\\Users\\dddf\\anaconda3\\lib\\site-packages\\sklearn\\cluster\\_kmeans.py:1382: UserWarning: KMeans is known to have a memory leak on Windows with MKL, when there are less chunks than available threads. You can avoid it by setting the environment variable OMP_NUM_THREADS=1.\n",
      "  warnings.warn(\n",
      "c:\\Users\\dddf\\anaconda3\\lib\\site-packages\\sklearn\\cluster\\_kmeans.py:1382: UserWarning: KMeans is known to have a memory leak on Windows with MKL, when there are less chunks than available threads. You can avoid it by setting the environment variable OMP_NUM_THREADS=1.\n",
      "  warnings.warn(\n"
     ]
    }
   ],
   "source": [
    "arr_inertial = []\n",
    "for n in range(1,11):\n",
    "    model= KMeans(n_clusters=n, random_state=10,n_init='auto')\n",
    "    model.fit(irisDF)\n",
    "    arr_inertial.append(model.inertia_)\n",
    "    "
   ]
  },
  {
   "cell_type": "code",
   "execution_count": 59,
   "metadata": {},
   "outputs": [
    {
     "data": {
      "image/png": "[encoded data removed]",
      "text/plain": [
       "<Figure size 640x480 with 1 Axes>"
      ]
     },
     "metadata": {},
     "output_type": "display_data"
    }
   ],
   "source": [
    "plt.plot(arr_inertial,'bo-')\n",
    "plt.ylabel('inertial_value')\n",
    "plt.xlabel('n_cluster count')\n",
    "plt.show()"
   ]
  },
  {
   "attachments": {},
   "cell_type": "markdown",
   "metadata": {},
   "source": [
    "### [최적 K 방법2] : Dunn index => 군집간 거리 군집내 거리에 비율로 측정 -> Davies-Bouldin score"
   ]
  },
  {
   "cell_type": "code",
   "execution_count": 60,
   "metadata": {},
   "outputs": [],
   "source": [
    "from sklearn.metrics import davies_bouldin_score"
   ]
  },
  {
   "cell_type": "code",
   "execution_count": 62,
   "metadata": {},
   "outputs": [
    {
     "name": "stderr",
     "output_type": "stream",
     "text": [
      "c:\\Users\\dddf\\anaconda3\\lib\\site-packages\\sklearn\\cluster\\_kmeans.py:1382: UserWarning: KMeans is known to have a memory leak on Windows with MKL, when there are less chunks than available threads. You can avoid it by setting the environment variable OMP_NUM_THREADS=1.\n",
      "  warnings.warn(\n",
      "c:\\Users\\dddf\\anaconda3\\lib\\site-packages\\sklearn\\cluster\\_kmeans.py:1382: UserWarning: KMeans is known to have a memory leak on Windows with MKL, when there are less chunks than available threads. You can avoid it by setting the environment variable OMP_NUM_THREADS=1.\n",
      "  warnings.warn(\n",
      "c:\\Users\\dddf\\anaconda3\\lib\\site-packages\\sklearn\\cluster\\_kmeans.py:1382: UserWarning: KMeans is known to have a memory leak on Windows with MKL, when there are less chunks than available threads. You can avoid it by setting the environment variable OMP_NUM_THREADS=1.\n",
      "  warnings.warn(\n",
      "c:\\Users\\dddf\\anaconda3\\lib\\site-packages\\sklearn\\cluster\\_kmeans.py:1382: UserWarning: KMeans is known to have a memory leak on Windows with MKL, when there are less chunks than available threads. You can avoid it by setting the environment variable OMP_NUM_THREADS=1.\n",
      "  warnings.warn(\n",
      "c:\\Users\\dddf\\anaconda3\\lib\\site-packages\\sklearn\\cluster\\_kmeans.py:1382: UserWarning: KMeans is known to have a memory leak on Windows with MKL, when there are less chunks than available threads. You can avoid it by setting the environment variable OMP_NUM_THREADS=1.\n",
      "  warnings.warn(\n",
      "c:\\Users\\dddf\\anaconda3\\lib\\site-packages\\sklearn\\cluster\\_kmeans.py:1382: UserWarning: KMeans is known to have a memory leak on Windows with MKL, when there are less chunks than available threads. You can avoid it by setting the environment variable OMP_NUM_THREADS=1.\n",
      "  warnings.warn(\n",
      "c:\\Users\\dddf\\anaconda3\\lib\\site-packages\\sklearn\\cluster\\_kmeans.py:1382: UserWarning: KMeans is known to have a memory leak on Windows with MKL, when there are less chunks than available threads. You can avoid it by setting the environment variable OMP_NUM_THREADS=1.\n",
      "  warnings.warn(\n",
      "c:\\Users\\dddf\\anaconda3\\lib\\site-packages\\sklearn\\cluster\\_kmeans.py:1382: UserWarning: KMeans is known to have a memory leak on Windows with MKL, when there are less chunks than available threads. You can avoid it by setting the environment variable OMP_NUM_THREADS=1.\n",
      "  warnings.warn(\n",
      "c:\\Users\\dddf\\anaconda3\\lib\\site-packages\\sklearn\\cluster\\_kmeans.py:1382: UserWarning: KMeans is known to have a memory leak on Windows with MKL, when there are less chunks than available threads. You can avoid it by setting the environment variable OMP_NUM_THREADS=1.\n",
      "  warnings.warn(\n"
     ]
    }
   ],
   "source": [
    "db_score = []\n",
    "for n in range(2,11):\n",
    "    model = KMeans(n_clusters=n, random_state= 10, n_init= 'auto')\n",
    "    model.fit(irisDF)\n",
    "    sc = davies_bouldin_score(irisDF, model.labels_)\n",
    "    db_score.append(sc)\n"
   ]
  },
  {
   "cell_type": "code",
   "execution_count": 64,
   "metadata": {},
   "outputs": [
    {
     "data": {
      "text/plain": [
       "Text(0, 0.5, 'davies_bouldin_score')"
      ]
     },
     "execution_count": 64,
     "metadata": {},
     "output_type": "execute_result"
    },
    {
     "data": {
      "image/png": "[encoded data removed]",
      "text/plain": [
       "<Figure size 640x480 with 1 Axes>"
      ]
     },
     "metadata": {},
     "output_type": "display_data"
    }
   ],
   "source": [
    "plt.plot(db_score, 'bo-')\n",
    "plt.xlabel('n_cluster count')\n",
    "plt.ylabel('davies_bouldin_score')"
   ]
  },
  {
   "cell_type": "code",
   "execution_count": null,
   "metadata": {},
   "outputs": [],
   "source": []
  }
 ],
 "metadata": {
  "kernelspec": {
   "display_name": "base",
   "language": "python",
   "name": "python3"
  },
  "language_info": {
   "codemirror_mode": {
    "name": "ipython",
    "version": 3
   },
   "file_extension": ".py",
   "mimetype": "text/x-python",
   "name": "python",
   "nbconvert_exporter": "python",
   "pygments_lexer": "ipython3",
   "version": "3.9.16"
  },
  "orig_nbformat": 4
 },
 "nbformat": 4,
 "nbformat_minor": 2
}
