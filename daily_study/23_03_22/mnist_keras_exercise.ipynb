{
 "cells": [
  {
   "attachments": {},
   "cell_type": "markdown",
   "metadata": {},
   "source": [
    "---\n",
    "## Mnist를 통한 딥러닝 프로세스 학습\n",
    "---"
   ]
  },
  {
   "attachments": {},
   "cell_type": "markdown",
   "metadata": {},
   "source": [
    "### [1] 모듈 로딩"
   ]
  },
  {
   "cell_type": "code",
   "execution_count": 28,
   "metadata": {},
   "outputs": [],
   "source": [
    "import tensorflow.keras.layers as layers\n",
    "import tensorflow.keras.models as models\n",
    "from tensorflow.keras.datasets.mnist import load_data\n",
    "import tensorflow as tf\n",
    "import numpy as np\n",
    "import pandas as pd\n",
    "import matplotlib.pyplot as plt"
   ]
  },
  {
   "attachments": {},
   "cell_type": "markdown",
   "metadata": {},
   "source": [
    "### [2] 랜덤 시드 생성"
   ]
  },
  {
   "cell_type": "code",
   "execution_count": 29,
   "metadata": {},
   "outputs": [],
   "source": [
    "np.random.seed(97)\n",
    "tf.random.set_seed(97)"
   ]
  },
  {
   "attachments": {},
   "cell_type": "markdown",
   "metadata": {},
   "source": [
    "### [3] train, test split"
   ]
  },
  {
   "cell_type": "code",
   "execution_count": 30,
   "metadata": {},
   "outputs": [],
   "source": [
    "(X_train, y_train), (X_test, y_test) = load_data()\n"
   ]
  },
  {
   "attachments": {},
   "cell_type": "markdown",
   "metadata": {},
   "source": [
    "### [4] train,test flatten하게 만들기"
   ]
  },
  {
   "cell_type": "code",
   "execution_count": 31,
   "metadata": {},
   "outputs": [
    {
     "data": {
      "text/plain": [
       "((60000, 784), (60000, 1), (10000, 784), (10000, 1))"
      ]
     },
     "execution_count": 31,
     "metadata": {},
     "output_type": "execute_result"
    }
   ],
   "source": [
    "X_train = X_train.reshape(len(X_train), -1)\n",
    "y_train = y_train.reshape(len(y_train), -1)\n",
    "\n",
    "X_test = X_test.reshape(len(X_test), -1)\n",
    "y_test = y_test.reshape(len(y_test), -1)\n",
    "X_train.shape, y_train.shape, X_test.shape, y_test.shape"
   ]
  },
  {
   "attachments": {},
   "cell_type": "markdown",
   "metadata": {},
   "source": [
    "### [5] 해당 값들 실수화(이미지의 경우 정수를 255로 나누기)"
   ]
  },
  {
   "cell_type": "code",
   "execution_count": 32,
   "metadata": {},
   "outputs": [],
   "source": [
    "X_train = X_train.astype(float)/255\n",
    "X_test = X_test.astype(float)/255"
   ]
  },
  {
   "attachments": {},
   "cell_type": "markdown",
   "metadata": {},
   "source": [
    "### [6] y값의 경우 분류이므로 categorized"
   ]
  },
  {
   "cell_type": "code",
   "execution_count": 33,
   "metadata": {},
   "outputs": [],
   "source": [
    "y_train = tf.keras.utils.to_categorical(y_train)\n",
    "y_test = tf.keras.utils.to_categorical(y_test)"
   ]
  },
  {
   "attachments": {},
   "cell_type": "markdown",
   "metadata": {},
   "source": [
    "### [7] DNN 클래스 생성"
   ]
  },
  {
   "cell_type": "code",
   "execution_count": 109,
   "metadata": {},
   "outputs": [],
   "source": [
    "class DNN(tf.keras.Model):\n",
    "    def __init__(self):\n",
    "        super().__init__()\n",
    "        self.layers1 = tf.keras.models.Sequential([\n",
    "            layers.Dense(128),\n",
    "            layers.Dropout(0.2),\n",
    "            layers.BatchNormalization(),\n",
    "            layers.ReLU()\n",
    "        ])\n",
    "        self.layers2 = tf.keras.models.Sequential([\n",
    "            layers.Dense(2048),\n",
    "            layers.Dropout(0.2),\n",
    "            layers.BatchNormalization(),\n",
    "            layers.ReLU()\n",
    "        ])\n",
    "        self.layers3 = tf.keras.models.Sequential([\n",
    "            layers.Dense(10),\n",
    "            layers.Softmax()\n",
    "        ])\n",
    "    def call(self,x):\n",
    "        x = self.layers1(x)\n",
    "        x = self.layers2(x)\n",
    "        x = self.layers3(x)\n",
    "        return x\n",
    "    "
   ]
  },
  {
   "cell_type": "code",
   "execution_count": 103,
   "metadata": {},
   "outputs": [],
   "source": [
    "DnnModel = DNN()\n",
    "DnnModel.build(input_shape = (128, 784))"
   ]
  },
  {
   "attachments": {},
   "cell_type": "markdown",
   "metadata": {},
   "source": [
    "#### [8] optimizer 설정"
   ]
  },
  {
   "cell_type": "code",
   "execution_count": 104,
   "metadata": {},
   "outputs": [],
   "source": [
    "optimizer = tf.keras.optimizers.Adam(learning_rate=0.001)"
   ]
  },
  {
   "cell_type": "code",
   "execution_count": 105,
   "metadata": {},
   "outputs": [],
   "source": [
    "DnnModel.compile(loss='categorical_crossentropy',\n",
    "              optimizer=optimizer,\n",
    "              metrics=['accuracy'])"
   ]
  },
  {
   "attachments": {},
   "cell_type": "markdown",
   "metadata": {},
   "source": [
    "---\n",
    "#### [9] 콜백함수\n",
    "- 모델체크 : 성능이 좋은 모델 지정, 가중치만 저장\n",
    "- 조기종료 : 성능개선이 없는 경우 학습 중단\n",
    "- 학습률 체크: 반복 학습시 학습률 조정\n",
    "---"
   ]
  },
  {
   "cell_type": "code",
   "execution_count": 106,
   "metadata": {},
   "outputs": [],
   "source": [
    "checkpoint = tf.keras.callbacks.ModelCheckpoint(filepath = 'tmp_checkpoint.ckpt', \n",
    "                                                save_weights_only=True,\n",
    "                                                save_best_only=True,\n",
    "                                                monitor = 'val_loss',\n",
    "                                                verbose=1)"
   ]
  },
  {
   "cell_type": "code",
   "execution_count": 107,
   "metadata": {},
   "outputs": [
    {
     "name": "stdout",
     "output_type": "stream",
     "text": [
      "Train on 60000 samples, validate on 10000 samples\n",
      "Epoch 1/10\n",
      "59600/60000 [============================>.] - ETA: 0s - loss: 0.1923 - accuracy: 0.9412 ETA\n",
      "Epoch 00001: val_loss improved from inf to 0.10496, saving model to tmp_checkpoint.ckpt\n",
      "60000/60000 [==============================] - 9s 156us/sample - loss: 0.1916 - accuracy: 0.9414 - val_loss: 0.1050 - val_accuracy: 0.9664\n",
      "Epoch 2/10\n",
      "59600/60000 [============================>.] - ETA: 0s - loss: 0.0863 - accuracy: 0.9735\n",
      "Epoch 00002: val_loss improved from 0.10496 to 0.10179, saving model to tmp_checkpoint.ckpt\n",
      "60000/60000 [==============================] - 9s 154us/sample - loss: 0.0862 - accuracy: 0.9736 - val_loss: 0.1018 - val_accuracy: 0.9713\n",
      "Epoch 3/10\n",
      "59800/60000 [============================>.] - ETA: 0s - loss: 0.0603 - accuracy: 0.9810 ETA - ETA: 0s - loss:\n",
      "Epoch 00003: val_loss improved from 0.10179 to 0.10007, saving model to tmp_checkpoint.ckpt\n",
      "60000/60000 [==============================] - 10s 165us/sample - loss: 0.0603 - accuracy: 0.9810 - val_loss: 0.1001 - val_accuracy: 0.9725\n",
      "Epoch 4/10\n",
      "59600/60000 [============================>.] - ETA: 0s - loss: 0.0478 - accuracy: 0.9845\n",
      "Epoch 00004: val_loss improved from 0.10007 to 0.07377, saving model to tmp_checkpoint.ckpt\n",
      "60000/60000 [==============================] - 10s 167us/sample - loss: 0.0479 - accuracy: 0.9844 - val_loss: 0.0738 - val_accuracy: 0.9777\n",
      "Epoch 5/10\n",
      "59800/60000 [============================>.] - ETA: 0s - loss: 0.0385 - accuracy: 0.9878\n",
      "Epoch 00005: val_loss did not improve from 0.07377\n",
      "60000/60000 [==============================] - 10s 175us/sample - loss: 0.0386 - accuracy: 0.9878 - val_loss: 0.0767 - val_accuracy: 0.9768\n",
      "Epoch 6/10\n",
      "59600/60000 [============================>.] - ETA: 0s - loss: 0.0324 - accuracy: 0.9894\n",
      "Epoch 00006: val_loss did not improve from 0.07377\n",
      "60000/60000 [==============================] - 10s 171us/sample - loss: 0.0324 - accuracy: 0.9894 - val_loss: 0.0769 - val_accuracy: 0.9784\n",
      "Epoch 7/10\n",
      "59600/60000 [============================>.] - ETA: 0s - loss: 0.0293 - accuracy: 0.9905\n",
      "Epoch 00007: val_loss did not improve from 0.07377\n",
      "60000/60000 [==============================] - 11s 175us/sample - loss: 0.0295 - accuracy: 0.9905 - val_loss: 0.0820 - val_accuracy: 0.9782\n",
      "Epoch 8/10\n",
      "59800/60000 [============================>.] - ETA: 0s - loss: 0.0284 - accuracy: 0.9904\n",
      "Epoch 00008: val_loss did not improve from 0.07377\n",
      "60000/60000 [==============================] - 11s 177us/sample - loss: 0.0285 - accuracy: 0.9904 - val_loss: 0.0836 - val_accuracy: 0.9782\n",
      "Epoch 9/10\n",
      "59800/60000 [============================>.] - ETA: 0s - loss: 0.0233 - accuracy: 0.9919\n",
      "Epoch 00009: val_loss did not improve from 0.07377\n",
      "60000/60000 [==============================] - 12s 198us/sample - loss: 0.0233 - accuracy: 0.9919 - val_loss: 0.0994 - val_accuracy: 0.9747\n",
      "Epoch 10/10\n",
      "59800/60000 [============================>.] - ETA: 0s - loss: 0.0212 - accuracy: 0.9928\n",
      "Epoch 00010: val_loss did not improve from 0.07377\n",
      "60000/60000 [==============================] - 13s 213us/sample - loss: 0.0213 - accuracy: 0.9927 - val_loss: 0.0937 - val_accuracy: 0.9756\n"
     ]
    },
    {
     "data": {
      "text/plain": [
       "<tensorflow.python.keras.callbacks.History at 0x259a5cf9828>"
      ]
     },
     "execution_count": 107,
     "metadata": {},
     "output_type": "execute_result"
    }
   ],
   "source": [
    "DnnModel.fit(X_train, y_train, batch_size=200, callbacks=[checkpoint], epochs = 10,validation_data=(X_test, y_test))"
   ]
  },
  {
   "cell_type": "code",
   "execution_count": 108,
   "metadata": {},
   "outputs": [
    {
     "name": "stdout",
     "output_type": "stream",
     "text": [
      "10000/10000 [==============================] - 1s 120us/sample - loss: 0.0937 - accuracy: 0.9756\n"
     ]
    },
    {
     "data": {
      "text/plain": [
       "[0.0936599385058944, 0.9756]"
      ]
     },
     "execution_count": 108,
     "metadata": {},
     "output_type": "execute_result"
    }
   ],
   "source": [
    "#모델 로드전\n",
    "DnnModel.evaluate(X_test,y_test)\n"
   ]
  },
  {
   "cell_type": "code",
   "execution_count": 111,
   "metadata": {},
   "outputs": [
    {
     "data": {
      "text/plain": [
       "<tensorflow.python.training.tracking.util.CheckpointLoadStatus at 0x259a591dac8>"
      ]
     },
     "execution_count": 111,
     "metadata": {},
     "output_type": "execute_result"
    }
   ],
   "source": [
    "DnnModel.load_weights('tmp_checkpoint.ckpt')"
   ]
  },
  {
   "cell_type": "code",
   "execution_count": 112,
   "metadata": {},
   "outputs": [
    {
     "name": "stdout",
     "output_type": "stream",
     "text": [
      "10000/10000 [==============================] - 1s 110us/sample - loss: 0.0738 - accuracy: 0.9777\n",
      "loss: 0.074 accuracy: 0.978\n"
     ]
    }
   ],
   "source": [
    "#모델 로딩 후\n",
    "loss, acc = DnnModel.evaluate(X_test,y_test)\n",
    "print(f'loss: {loss:.3f} accuracy: {acc:.3f}')"
   ]
  },
  {
   "cell_type": "code",
   "execution_count": 115,
   "metadata": {},
   "outputs": [
    {
     "name": "stdout",
     "output_type": "stream",
     "text": [
      "Train on 60000 samples\n",
      "Epoch 1/20\n",
      "59800/60000 [============================>.] - ETA: 0s - loss: 0.0687 - accuracy: 0.9789WARNING:tensorflow:Early stopping conditioned on metric `val_loss` which is not available. Available metrics are: loss,accuracy\n",
      "60000/60000 [==============================] - 8s 136us/sample - loss: 0.0686 - accuracy: 0.9789\n",
      "Epoch 2/20\n",
      "59800/60000 [============================>.] - ETA: 0s - loss: 0.0401 - accuracy: 0.9873WARNING:tensorflow:Early stopping conditioned on metric `val_loss` which is not available. Available metrics are: loss,accuracy\n",
      "60000/60000 [==============================] - 9s 147us/sample - loss: 0.0402 - accuracy: 0.9873\n",
      "Epoch 3/20\n",
      "59800/60000 [============================>.] - ETA: 0s - loss: 0.0299 - accuracy: 0.9911 ETA: 0s - loss: 0.0WARNING:tensorflow:Early stopping conditioned on metric `val_loss` which is not available. Available metrics are: loss,accuracy\n",
      "60000/60000 [==============================] - 9s 152us/sample - loss: 0.0299 - accuracy: 0.9911\n",
      "Epoch 4/20\n",
      "59800/60000 [============================>.] - ETA: 0s - loss: 0.0236 - accuracy: 0.9927WARNING:tensorflow:Early stopping conditioned on metric `val_loss` which is not available. Available metrics are: loss,accuracy\n",
      "60000/60000 [==============================] - 9s 156us/sample - loss: 0.0236 - accuracy: 0.9927\n",
      "Epoch 5/20\n",
      "59800/60000 [============================>.] - ETA: 0s - loss: 0.0189 - accuracy: 0.9942WARNING:tensorflow:Early stopping conditioned on metric `val_loss` which is not available. Available metrics are: loss,accuracy\n",
      "60000/60000 [==============================] - 10s 158us/sample - loss: 0.0189 - accuracy: 0.9942\n",
      "Epoch 6/20\n",
      "59800/60000 [============================>.] - ETA: 0s - loss: 0.0160 - accuracy: 0.99 - ETA: 0s - loss: 0.0159 - accuracy: 0.9946WARNING:tensorflow:Early stopping conditioned on metric `val_loss` which is not available. Available metrics are: loss,accuracy\n",
      "60000/60000 [==============================] - 10s 163us/sample - loss: 0.0159 - accuracy: 0.9946\n",
      "Epoch 7/20\n",
      "59600/60000 [============================>.] - ETA: 0s - loss: 0.0131 - accuracy: 0.9956WARNING:tensorflow:Early stopping conditioned on metric `val_loss` which is not available. Available metrics are: loss,accuracy\n",
      "60000/60000 [==============================] - 10s 160us/sample - loss: 0.0131 - accuracy: 0.9955\n",
      "Epoch 8/20\n",
      "59600/60000 [============================>.] - ETA: 0s - loss: 0.0130 - accuracy: 0.9955WARNING:tensorflow:Early stopping conditioned on metric `val_loss` which is not available. Available metrics are: loss,accuracy\n",
      "60000/60000 [==============================] - 10s 164us/sample - loss: 0.0130 - accuracy: 0.9955\n",
      "Epoch 9/20\n",
      "59800/60000 [============================>.] - ETA: 0s - loss: 0.0142 - accuracy: 0.9953WARNING:tensorflow:Early stopping conditioned on metric `val_loss` which is not available. Available metrics are: loss,accuracy\n",
      "60000/60000 [==============================] - 10s 166us/sample - loss: 0.0142 - accuracy: 0.9953\n",
      "Epoch 10/20\n",
      "59800/60000 [============================>.] - ETA: 0s - loss: 0.0136 - accuracy: 0.9955WARNING:tensorflow:Early stopping conditioned on metric `val_loss` which is not available. Available metrics are: loss,accuracy\n",
      "60000/60000 [==============================] - 11s 179us/sample - loss: 0.0137 - accuracy: 0.9955\n",
      "Epoch 11/20\n",
      "59800/60000 [============================>.] - ETA: 0s - loss: 0.0178 - accuracy: 0.9940WARNING:tensorflow:Early stopping conditioned on metric `val_loss` which is not available. Available metrics are: loss,accuracy\n",
      "60000/60000 [==============================] - 12s 200us/sample - loss: 0.0178 - accuracy: 0.9940\n",
      "Epoch 12/20\n",
      "59800/60000 [============================>.] - ETA: 0s - loss: 0.0171 - accuracy: 0.9943WARNING:tensorflow:Early stopping conditioned on metric `val_loss` which is not available. Available metrics are: loss,accuracy\n",
      "60000/60000 [==============================] - 12s 207us/sample - loss: 0.0170 - accuracy: 0.9944\n",
      "Epoch 13/20\n",
      "59800/60000 [============================>.] - ETA: 0s - loss: 0.0165 - accuracy: 0.9944WARNING:tensorflow:Early stopping conditioned on metric `val_loss` which is not available. Available metrics are: loss,accuracy\n",
      "60000/60000 [==============================] - 14s 227us/sample - loss: 0.0165 - accuracy: 0.9944\n",
      "Epoch 14/20\n",
      "59800/60000 [============================>.] - ETA: 0s - loss: 0.0174 - accuracy: 0.9940WARNING:tensorflow:Early stopping conditioned on metric `val_loss` which is not available. Available metrics are: loss,accuracy\n",
      "60000/60000 [==============================] - 15s 255us/sample - loss: 0.0175 - accuracy: 0.9940\n",
      "Epoch 15/20\n",
      "59800/60000 [============================>.] - ETA: 0s - loss: 0.0132 - accuracy: 0.9954WARNING:tensorflow:Early stopping conditioned on metric `val_loss` which is not available. Available metrics are: loss,accuracy\n",
      "60000/60000 [==============================] - 18s 300us/sample - loss: 0.0135 - accuracy: 0.9954\n",
      "Epoch 16/20\n",
      "59800/60000 [============================>.] - ETA: 0s - loss: 0.0124 - accuracy: 0.9958WARNING:tensorflow:Early stopping conditioned on metric `val_loss` which is not available. Available metrics are: loss,accuracy\n",
      "60000/60000 [==============================] - 16s 273us/sample - loss: 0.0124 - accuracy: 0.9958\n",
      "Epoch 17/20\n",
      "59800/60000 [============================>.] - ETA: 0s - loss: 0.0115 - accuracy: 0.9963WARNING:tensorflow:Early stopping conditioned on metric `val_loss` which is not available. Available metrics are: loss,accuracy\n",
      "60000/60000 [==============================] - 13s 211us/sample - loss: 0.0116 - accuracy: 0.9963\n",
      "Epoch 18/20\n",
      "59600/60000 [============================>.] - ETA: 0s - loss: 0.0129 - accuracy: 0.9954WARNING:tensorflow:Early stopping conditioned on metric `val_loss` which is not available. Available metrics are: loss,accuracy\n",
      "60000/60000 [==============================] - 11s 188us/sample - loss: 0.0130 - accuracy: 0.9954\n",
      "Epoch 19/20\n",
      "59800/60000 [============================>.] - ETA: 0s - loss: 0.0130 - accuracy: 0.9959WARNING:tensorflow:Early stopping conditioned on metric `val_loss` which is not available. Available metrics are: loss,accuracy\n",
      "60000/60000 [==============================] - 11s 181us/sample - loss: 0.0129 - accuracy: 0.9959\n",
      "Epoch 20/20\n",
      "59800/60000 [============================>.] - ETA: 0s - loss: 0.0113 - accuracy: 0.9962WARNING:tensorflow:Early stopping conditioned on metric `val_loss` which is not available. Available metrics are: loss,accuracy\n",
      "60000/60000 [==============================] - 11s 182us/sample - loss: 0.0113 - accuracy: 0.9962\n"
     ]
    },
    {
     "data": {
      "text/plain": [
       "<tensorflow.python.keras.callbacks.History at 0x259a62dfd30>"
      ]
     },
     "execution_count": 115,
     "metadata": {},
     "output_type": "execute_result"
    }
   ],
   "source": [
    "# earlystopping 사용법 3번 성능이 나빠진다면? 중단\n",
    "earlystopping = tf.keras.callbacks.EarlyStopping(monitor='val_loss', patience=3)\n",
    "DnnModel.fit(X_train, y_train, epochs=20,batch_size= 200, callbacks=[earlystopping])"
   ]
  },
  {
   "cell_type": "code",
   "execution_count": 116,
   "metadata": {},
   "outputs": [],
   "source": [
    "def scheduler(epoch,lr):\n",
    "    tf.print(f'learning rate : {lr:5f}')\n",
    "    if epoch < 5:\n",
    "        return lr\n",
    "    else:\n",
    "        return lr * tf.math.exp(-0.1)\n",
    "lr_scheduler = tf.keras.callbacks.LearningRateScheduler(scheduler)   "
   ]
  },
  {
   "cell_type": "code",
   "execution_count": 117,
   "metadata": {},
   "outputs": [
    {
     "name": "stdout",
     "output_type": "stream",
     "text": [
      "Train on 60000 samples\n",
      "learning rate : 0.001000\n",
      "Epoch 1/20\n",
      "59600/60000 [============================>.] - ETA: 0s - loss: 0.0106 - accuracy: 0.9962 ETAWARNING:tensorflow:Can save best model only with val_loss available, skipping.\n",
      "WARNING:tensorflow:Early stopping conditioned on metric `val_loss` which is not available. Available metrics are: loss,accuracy,lr\n",
      "60000/60000 [==============================] - 8s 125us/sample - loss: 0.0106 - accuracy: 0.9962\n",
      "learning rate : 0.001000\n",
      "Epoch 2/20\n",
      "59800/60000 [============================>.] - ETA: 0s - loss: 0.0100 - accuracy: 0.9965WARNING:tensorflow:Can save best model only with val_loss available, skipping.\n",
      "WARNING:tensorflow:Early stopping conditioned on metric `val_loss` which is not available. Available metrics are: loss,accuracy,lr\n",
      "60000/60000 [==============================] - 8s 138us/sample - loss: 0.0100 - accuracy: 0.9965\n",
      "learning rate : 0.001000\n",
      "Epoch 3/20\n",
      "59600/60000 [============================>.] - ETA: 0s - loss: 0.0094 - accuracy: 0.9970WARNING:tensorflow:Can save best model only with val_loss available, skipping.\n",
      "WARNING:tensorflow:Early stopping conditioned on metric `val_loss` which is not available. Available metrics are: loss,accuracy,lr\n",
      "60000/60000 [==============================] - 9s 154us/sample - loss: 0.0094 - accuracy: 0.9970\n",
      "learning rate : 0.001000\n",
      "Epoch 4/20\n",
      "59600/60000 [============================>.] - ETA: 0s - loss: 0.0130 - accuracy: 0.9959WARNING:tensorflow:Can save best model only with val_loss available, skipping.\n",
      "WARNING:tensorflow:Early stopping conditioned on metric `val_loss` which is not available. Available metrics are: loss,accuracy,lr\n",
      "60000/60000 [==============================] - 9s 156us/sample - loss: 0.0130 - accuracy: 0.9958\n",
      "learning rate : 0.001000\n",
      "Epoch 5/20\n",
      "59800/60000 [============================>.] - ETA: 0s - loss: 0.0105 - accuracy: 0.9966WARNING:tensorflow:Can save best model only with val_loss available, skipping.\n",
      "WARNING:tensorflow:Early stopping conditioned on metric `val_loss` which is not available. Available metrics are: loss,accuracy,lr\n",
      "60000/60000 [==============================] - 10s 158us/sample - loss: 0.0104 - accuracy: 0.9966\n",
      "learning rate : 0.001000\n",
      "Epoch 6/20\n",
      "59800/60000 [============================>.] - ETA: 0s - loss: 0.0060 - accuracy: 0.9979WARNING:tensorflow:Can save best model only with val_loss available, skipping.\n",
      "WARNING:tensorflow:Early stopping conditioned on metric `val_loss` which is not available. Available metrics are: loss,accuracy,lr\n",
      "60000/60000 [==============================] - 9s 157us/sample - loss: 0.0060 - accuracy: 0.9979\n",
      "learning rate : 0.000905\n",
      "Epoch 7/20\n",
      "59800/60000 [============================>.] - ETA: 0s - loss: 0.0041 - accuracy: 0.9987WARNING:tensorflow:Can save best model only with val_loss available, skipping.\n",
      "WARNING:tensorflow:Early stopping conditioned on metric `val_loss` which is not available. Available metrics are: loss,accuracy,lr\n",
      "60000/60000 [==============================] - 10s 162us/sample - loss: 0.0041 - accuracy: 0.9987\n",
      "learning rate : 0.000819\n",
      "Epoch 8/20\n",
      "59800/60000 [============================>.] - ETA: 0s - loss: 0.0042 - accuracy: 0.9986WARNING:tensorflow:Can save best model only with val_loss available, skipping.\n",
      "WARNING:tensorflow:Early stopping conditioned on metric `val_loss` which is not available. Available metrics are: loss,accuracy,lr\n",
      "60000/60000 [==============================] - 10s 163us/sample - loss: 0.0042 - accuracy: 0.9986\n",
      "learning rate : 0.000741\n",
      "Epoch 9/20\n",
      "59800/60000 [============================>.] - ETA: 0s - loss: 0.0028 - accuracy: 0.9991WARNING:tensorflow:Can save best model only with val_loss available, skipping.\n",
      "WARNING:tensorflow:Early stopping conditioned on metric `val_loss` which is not available. Available metrics are: loss,accuracy,lr\n",
      "60000/60000 [==============================] - 10s 165us/sample - loss: 0.0028 - accuracy: 0.9991\n",
      "learning rate : 0.000670\n",
      "Epoch 10/20\n",
      "59800/60000 [============================>.] - ETA: 0s - loss: 0.0027 - accuracy: 0.9992WARNING:tensorflow:Can save best model only with val_loss available, skipping.\n",
      "WARNING:tensorflow:Early stopping conditioned on metric `val_loss` which is not available. Available metrics are: loss,accuracy,lr\n",
      "60000/60000 [==============================] - 10s 168us/sample - loss: 0.0027 - accuracy: 0.9992\n",
      "learning rate : 0.000607\n",
      "Epoch 11/20\n",
      "59600/60000 [============================>.] - ETA: 0s - loss: 0.0026 - accuracy: 0.9992WARNING:tensorflow:Can save best model only with val_loss available, skipping.\n",
      "WARNING:tensorflow:Early stopping conditioned on metric `val_loss` which is not available. Available metrics are: loss,accuracy,lr\n",
      "60000/60000 [==============================] - 11s 177us/sample - loss: 0.0026 - accuracy: 0.9992\n",
      "learning rate : 0.000549\n",
      "Epoch 12/20\n",
      "59600/60000 [============================>.] - ETA: 0s - loss: 0.0019 - accuracy: 0.9995WARNING:tensorflow:Can save best model only with val_loss available, skipping.\n",
      "WARNING:tensorflow:Early stopping conditioned on metric `val_loss` which is not available. Available metrics are: loss,accuracy,lr\n",
      "60000/60000 [==============================] - 12s 194us/sample - loss: 0.0019 - accuracy: 0.9995\n",
      "learning rate : 0.000497\n",
      "Epoch 13/20\n",
      "59600/60000 [============================>.] - ETA: 0s - loss: 0.0018 - accuracy: 0.9994WARNING:tensorflow:Can save best model only with val_loss available, skipping.\n",
      "WARNING:tensorflow:Early stopping conditioned on metric `val_loss` which is not available. Available metrics are: loss,accuracy,lr\n",
      "60000/60000 [==============================] - 13s 217us/sample - loss: 0.0018 - accuracy: 0.9994\n",
      "learning rate : 0.000449\n",
      "Epoch 14/20\n",
      "59600/60000 [============================>.] - ETA: 0s - loss: 0.0011 - accuracy: 0.9995WARNING:tensorflow:Can save best model only with val_loss available, skipping.\n",
      "WARNING:tensorflow:Early stopping conditioned on metric `val_loss` which is not available. Available metrics are: loss,accuracy,lr\n",
      "60000/60000 [==============================] - 13s 221us/sample - loss: 0.0011 - accuracy: 0.9995\n",
      "learning rate : 0.000407\n",
      "Epoch 15/20\n",
      "59600/60000 [============================>.] - ETA: 0s - loss: 9.4248e-04 - accuracy: 0.9997WARNING:tensorflow:Can save best model only with val_loss available, skipping.\n",
      "WARNING:tensorflow:Early stopping conditioned on metric `val_loss` which is not available. Available metrics are: loss,accuracy,lr\n",
      "60000/60000 [==============================] - 15s 245us/sample - loss: 9.4044e-04 - accuracy: 0.9997\n",
      "learning rate : 0.000368\n",
      "Epoch 16/20\n",
      "59800/60000 [============================>.] - ETA: 0s - loss: 9.0076e-04 - accuracy: 0.9997WARNING:tensorflow:Can save best model only with val_loss available, skipping.\n",
      "WARNING:tensorflow:Early stopping conditioned on metric `val_loss` which is not available. Available metrics are: loss,accuracy,lr\n",
      "60000/60000 [==============================] - 17s 286us/sample - loss: 9.0134e-04 - accuracy: 0.9997\n",
      "learning rate : 0.000333\n",
      "Epoch 17/20\n",
      "59600/60000 [============================>.] - ETA: 0s - loss: 6.1549e-04 - accuracy: 0.9999WARNING:tensorflow:Can save best model only with val_loss available, skipping.\n",
      "WARNING:tensorflow:Early stopping conditioned on metric `val_loss` which is not available. Available metrics are: loss,accuracy,lr\n",
      "60000/60000 [==============================] - 14s 240us/sample - loss: 6.1203e-04 - accuracy: 0.9999\n",
      "learning rate : 0.000301\n",
      "Epoch 18/20\n",
      "59600/60000 [============================>.] - ETA: 0s - loss: 4.5592e-04 - accuracy: 0.9999WARNING:tensorflow:Can save best model only with val_loss available, skipping.\n",
      "WARNING:tensorflow:Early stopping conditioned on metric `val_loss` which is not available. Available metrics are: loss,accuracy,lr\n",
      "60000/60000 [==============================] - 12s 199us/sample - loss: 4.5426e-04 - accuracy: 0.9999\n",
      "learning rate : 0.000273\n",
      "Epoch 19/20\n",
      "59600/60000 [============================>.] - ETA: 0s - loss: 3.4973e-04 - accuracy: 0.9999WARNING:tensorflow:Can save best model only with val_loss available, skipping.\n",
      "WARNING:tensorflow:Early stopping conditioned on metric `val_loss` which is not available. Available metrics are: loss,accuracy,lr\n",
      "60000/60000 [==============================] - 11s 187us/sample - loss: 3.4822e-04 - accuracy: 0.9999\n",
      "learning rate : 0.000247\n",
      "Epoch 20/20\n",
      "59600/60000 [============================>.] - ETA: 0s - loss: 3.8967e-04 - accuracy: 0.9999WARNING:tensorflow:Can save best model only with val_loss available, skipping.\n",
      "WARNING:tensorflow:Early stopping conditioned on metric `val_loss` which is not available. Available metrics are: loss,accuracy,lr\n",
      "60000/60000 [==============================] - 10s 171us/sample - loss: 3.8908e-04 - accuracy: 0.9999\n"
     ]
    },
    {
     "data": {
      "text/plain": [
       "<tensorflow.python.keras.callbacks.History at 0x259a6323e80>"
      ]
     },
     "execution_count": 117,
     "metadata": {},
     "output_type": "execute_result"
    }
   ],
   "source": [
    "# 여러 개로 넣고 싶을 시 리스트안에 담아주면 됨. \n",
    "earlystopping = tf.keras.callbacks.EarlyStopping(monitor='val_loss', patience=3)\n",
    "DnnModel.fit(X_train, y_train, epochs=20,batch_size= 200, callbacks=[checkpoint,lr_scheduler ,earlystopping])"
   ]
  },
  {
   "cell_type": "code",
   "execution_count": 97,
   "metadata": {},
   "outputs": [],
   "source": [
    "X_test= X_test.reshape(10000,-1)"
   ]
  },
  {
   "cell_type": "code",
   "execution_count": 98,
   "metadata": {},
   "outputs": [
    {
     "data": {
      "text/plain": [
       "(1, 784)"
      ]
     },
     "execution_count": 98,
     "metadata": {},
     "output_type": "execute_result"
    }
   ],
   "source": [
    "test_data = X_test[1]\n",
    "test_data = test_data.reshape(1,-1)\n",
    "test_data.shape"
   ]
  },
  {
   "cell_type": "code",
   "execution_count": 123,
   "metadata": {},
   "outputs": [
    {
     "name": "stdout",
     "output_type": "stream",
     "text": [
      "10000/10000 [==============================] - 1s 102us/sample - loss: 0.0738 - accuracy: 0.9777\n"
     ]
    },
    {
     "data": {
      "text/plain": [
       "[0.07376965941278031, 0.9777]"
      ]
     },
     "execution_count": 123,
     "metadata": {},
     "output_type": "execute_result"
    }
   ],
   "source": [
    "#모델 로드전\n",
    "DnnModel.evaluate(X_test,y_test)\n"
   ]
  },
  {
   "cell_type": "code",
   "execution_count": 121,
   "metadata": {},
   "outputs": [
    {
     "data": {
      "text/plain": [
       "<tensorflow.python.training.tracking.util.CheckpointLoadStatus at 0x259a6323a20>"
      ]
     },
     "execution_count": 121,
     "metadata": {},
     "output_type": "execute_result"
    }
   ],
   "source": [
    "DnnModel.load_weights('tmp_checkpoint.ckpt')"
   ]
  },
  {
   "cell_type": "code",
   "execution_count": 122,
   "metadata": {},
   "outputs": [
    {
     "name": "stdout",
     "output_type": "stream",
     "text": [
      "10000/10000 [==============================] - 1s 100us/sample - loss: 0.0738 - accuracy: 0.9777 -\n",
      "loss: 0.074 accuracy: 0.978\n"
     ]
    }
   ],
   "source": [
    "#모델 로딩 후\n",
    "loss, acc = DnnModel.evaluate(X_test,y_test)\n",
    "print(f'loss: {loss:.3f} accuracy: {acc:.3f}')"
   ]
  },
  {
   "cell_type": "code",
   "execution_count": 120,
   "metadata": {},
   "outputs": [],
   "source": [
    "pred= DnnModel.predict(test_data)"
   ]
  },
  {
   "cell_type": "code",
   "execution_count": 100,
   "metadata": {},
   "outputs": [
    {
     "data": {
      "text/plain": [
       "2"
      ]
     },
     "execution_count": 100,
     "metadata": {},
     "output_type": "execute_result"
    }
   ],
   "source": [
    "np.argmax(pred)"
   ]
  },
  {
   "cell_type": "code",
   "execution_count": 101,
   "metadata": {},
   "outputs": [
    {
     "data": {
      "text/plain": [
       "<matplotlib.image.AxesImage at 0x259a0afbe10>"
      ]
     },
     "execution_count": 101,
     "metadata": {},
     "output_type": "execute_result"
    },
    {
     "data": {
      "image/png": "[encoded data removed]",
      "text/plain": [
       "<Figure size 432x288 with 1 Axes>"
      ]
     },
     "metadata": {
      "needs_background": "light"
     },
     "output_type": "display_data"
    }
   ],
   "source": [
    "plt.imshow(test_data.reshape(28,28))"
   ]
  },
  {
   "cell_type": "code",
   "execution_count": null,
   "metadata": {},
   "outputs": [],
   "source": []
  }
 ],
 "metadata": {
  "kernelspec": {
   "display_name": "hikeras",
   "language": "python",
   "name": "python3"
  },
  "language_info": {
   "codemirror_mode": {
    "name": "ipython",
    "version": 3
   },
   "file_extension": ".py",
   "mimetype": "text/x-python",
   "name": "python",
   "nbconvert_exporter": "python",
   "pygments_lexer": "ipython3",
   "version": "3.6.13"
  },
  "orig_nbformat": 4
 },
 "nbformat": 4,
 "nbformat_minor": 2
}
