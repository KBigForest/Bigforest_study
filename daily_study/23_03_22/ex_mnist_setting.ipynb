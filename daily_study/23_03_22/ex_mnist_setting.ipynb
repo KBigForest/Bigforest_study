{
 "cells": [
  {
   "attachments": {},
   "cell_type": "markdown",
   "metadata": {},
   "source": [
    "## Model 설정\n",
    "- 가중치(weight), 절편(bias) => 초기값 설정\n",
    "- 규제 => L1 norm, L2 norm\n",
    "- 층 => 일부 퍼센트론을 비활성화 시켜주는 층 Dropout Layer :학습때만 동작\n",
    "    * 학습때만 지정된 비율의 퍼셉트론을 비호라성화\n",
    "    * 예측때는 모든 퍼셉트론 활성화\n",
    "- fit() 학습 시 학습분량 조절 배치 사이즈 batch_size\n",
    "    * 학습 직전에 지정된 학습 분량 데이터를 정규화\n",
    "- 최적화 방법\n",
    "    * compile()함수의 optimizer 설정"
   ]
  },
  {
   "attachments": {},
   "cell_type": "markdown",
   "metadata": {},
   "source": [
    "### [1] 데이터 준비 및 확인\n",
    "##### [1-1] 데이터 로딩"
   ]
  },
  {
   "cell_type": "code",
   "execution_count": 10,
   "metadata": {},
   "outputs": [],
   "source": [
    "from tensorflow.keras.models import Sequential\n",
    "from tensorflow.keras.layers import Dense, Dropout, Flatten\n",
    "from tensorflow.keras.datasets.mnist import load_data\n",
    "from tensorflow.keras.optimizers import Adam\n",
    "import numpy as np\n",
    "import matplotlib.pyplot as plt\n"
   ]
  },
  {
   "cell_type": "code",
   "execution_count": 7,
   "metadata": {},
   "outputs": [],
   "source": [
    "model = Sequential(name = 'My Mnist')\n",
    "model.add(Flatten(input_shape = (28,28)))\n",
    "model.add(Dense(32, \n",
    "                kernel_initializer = 'he_normal',\n",
    "                kernel_regularizer = 'l1',\n",
    "                bias_initializer = 'ones',\n",
    "                activation = 'relu'))\n",
    "model.add(Dense(10,\n",
    "                kernel_initializer = 'lecun_uniform',\n",
    "                kernel_regularizer = 'l2',\n",
    "                activation = 'relu'))\n",
    "\n"
   ]
  },
  {
   "cell_type": "code",
   "execution_count": 11,
   "metadata": {},
   "outputs": [],
   "source": [
    "optimizer = Adam(learning_rate=0.001)"
   ]
  },
  {
   "cell_type": "code",
   "execution_count": null,
   "metadata": {},
   "outputs": [],
   "source": [
    "model.fit(optimizer = optimizer, loss = , metrics = ['accuary_rate'])"
   ]
  }
 ],
 "metadata": {
  "kernelspec": {
   "display_name": "hikeras",
   "language": "python",
   "name": "python3"
  },
  "language_info": {
   "codemirror_mode": {
    "name": "ipython",
    "version": 3
   },
   "file_extension": ".py",
   "mimetype": "text/x-python",
   "name": "python",
   "nbconvert_exporter": "python",
   "pygments_lexer": "ipython3",
   "version": "3.6.13"
  },
  "orig_nbformat": 4
 },
 "nbformat": 4,
 "nbformat_minor": 2
}
