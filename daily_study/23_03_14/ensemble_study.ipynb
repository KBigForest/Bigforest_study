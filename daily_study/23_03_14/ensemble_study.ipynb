{
 "cells": [
  {
   "attachments": {},
   "cell_type": "markdown",
   "metadata": {},
   "source": [
    "### 부스팅\n",
    "- 성능이 약한 학습기를 편향을 줄여나가는 방식\n",
    "- 이전 학습 결과에 대해 오답에 대한 가중치 부여\n",
    "- 가중치를 조정하여 새로운 모델을 추가하는 기법"
   ]
  },
  {
   "attachments": {},
   "cell_type": "markdown",
   "metadata": {},
   "source": [
    "### 그라디언트 부스팅\n",
    "- 오차에 대해 새로운 가중치 부여"
   ]
  },
  {
   "attachments": {},
   "cell_type": "markdown",
   "metadata": {},
   "source": [
    "### 보팅\n",
    "- 직접 투표 방식 여러 모델에서 가장 많이 나온 값으로 다수결로 결정\n",
    "- 간접 투표 방식 여러 모델 예측한 확률 값들의 평균으로 예측값 결정(소프트 보팅)\n",
    "- ensemble.VotingClassifier(분류)"
   ]
  },
  {
   "cell_type": "code",
   "execution_count": 10,
   "metadata": {},
   "outputs": [
    {
     "name": "stdout",
     "output_type": "stream",
     "text": [
      "Voting 분류기 정확도 :0.96\n"
     ]
    }
   ],
   "source": [
    "from sklearn.ensemble import VotingClassifier\n",
    "from sklearn.datasets import load_breast_cancer\n",
    "from sklearn.linear_model import LogisticRegression\n",
    "from sklearn.neighbors import KNeighborsClassifier\n",
    "from sklearn.model_selection import train_test_split\n",
    "from sklearn.metrics import accuracy_score\n",
    "import pandas as pd\n",
    "\n",
    "cancer = load_breast_cancer()\n",
    "data_df = pd.DataFrame(cancer.data,columns= cancer.feature_names)\n",
    "lr_clf = LogisticRegression(solver= 'liblinear')\n",
    "knn_clf = KNeighborsClassifier(n_neighbors=8)\n",
    "vo_clf = VotingClassifier(estimators=[('lr',lr_clf),('knn',knn_clf)], voting= 'soft')\n",
    "\n",
    "X_train, X_test, y_train, y_test = train_test_split(cancer.data, cancer.target, test_size=0.2, random_state= 156)\n",
    "vo_clf.fit(X_train, y_train)\n",
    "pred = vo_clf.predict(X_test)\n",
    "print(f'Voting 분류기 정확도 :{round(accuracy_score(pred,y_test),2)}')"
   ]
  },
  {
   "attachments": {},
   "cell_type": "markdown",
   "metadata": {},
   "source": [
    "### 배깅\n",
    "- 중복 허용 램덤 샘플링을 통한 학습 샘플 데이터 생성\n",
    "- 동일 모델 여러개 병렬 학습 진행\n",
    "- 학습 결과 결합\n",
    " * 분류: 다중 투표\n",
    " * 회귀: 평균\n",
    "- 대표적 알고리즘: randomforestclassifier, randomforestregression"
   ]
  },
  {
   "attachments": {},
   "cell_type": "markdown",
   "metadata": {},
   "source": [
    "### 랜덤포레스트\n",
    "- 중복 샘플링으로 남겨진 데이터의 경우 검증으로 사용\n",
    "- 특성 중요도 알 수 있음\n",
    "- 하이퍼 파라미터\n",
    "    * max_depth\n",
    "    * min_samples_split\n",
    "    * ?\n",
    "### extraTree\n",
    "- bootstrap이 True일 경우 oob_score를 통해 검증용으로 사용\n"
   ]
  },
  {
   "cell_type": "code",
   "execution_count": 12,
   "metadata": {},
   "outputs": [
    {
     "name": "stdout",
     "output_type": "stream",
     "text": [
      "랜덤 포레스트 정확도 : 0.956\n"
     ]
    }
   ],
   "source": [
    "from sklearn.ensemble import RandomForestClassifier\n",
    "from sklearn.metrics import accuracy_score\n",
    "import pandas as pd\n",
    "import warnings \n",
    "warnings.filterwarnings('ignore')\n",
    "\n",
    "rf_clf = RandomForestClassifier(random_state=0, max_depth=8)\n",
    "rf_clf.fit(X_train, y_train)\n",
    "pred = rf_clf.predict(X_test)\n",
    "check_accuracy = round(accuracy_score(pred, y_test),3)\n",
    "print(f'랜덤 포레스트 정확도 : {check_accuracy}')\n"
   ]
  },
  {
   "cell_type": "code",
   "execution_count": null,
   "metadata": {},
   "outputs": [],
   "source": []
  },
  {
   "cell_type": "code",
   "execution_count": null,
   "metadata": {},
   "outputs": [],
   "source": []
  }
 ],
 "metadata": {
  "kernelspec": {
   "display_name": "base",
   "language": "python",
   "name": "python3"
  },
  "language_info": {
   "codemirror_mode": {
    "name": "ipython",
    "version": 3
   },
   "file_extension": ".py",
   "mimetype": "text/x-python",
   "name": "python",
   "nbconvert_exporter": "python",
   "pygments_lexer": "ipython3",
   "version": "3.9.16"
  },
  "orig_nbformat": 4
 },
 "nbformat": 4,
 "nbformat_minor": 2
}
