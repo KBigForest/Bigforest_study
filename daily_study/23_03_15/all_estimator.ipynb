{
 "cells": [
  {
   "attachments": {},
   "cell_type": "markdown",
   "metadata": {},
   "source": [
    "### sklearn 모델 선택\n",
    "- 가장 기본 매개변수 값으로 학습모델\n",
    "- 모델 선택 기준\n"
   ]
  },
  {
   "cell_type": "code",
   "execution_count": 1,
   "metadata": {},
   "outputs": [
    {
     "ename": "SyntaxError",
     "evalue": "invalid syntax (1037240499.py, line 2)",
     "output_type": "error",
     "traceback": [
      "\u001b[1;36m  Cell \u001b[1;32mIn[1], line 2\u001b[1;36m\u001b[0m\n\u001b[1;33m    from\u001b[0m\n\u001b[1;37m         ^\u001b[0m\n\u001b[1;31mSyntaxError\u001b[0m\u001b[1;31m:\u001b[0m invalid syntax\n"
     ]
    }
   ],
   "source": [
    "from sklearn.utils import *\n",
    "from sklearn.metrics import *\n"
   ]
  },
  {
   "cell_type": "code",
   "execution_count": null,
   "metadata": {},
   "outputs": [],
   "source": [
    "from sklearn.utils import *\n",
    "from sklearn.metrics import *\n",
    "rets = all_estimators(type_filter='classifier')#분류 혹은 회귀\n",
    "\n",
    "result=[]\n",
    "for name, estimator_ in rets:\n",
    "    try:\n",
    "        model=estimator_()\n",
    "        model.fit(data, label)\n",
    "        sc=model.score(data, label)\n",
    "        result.append((name, round(sc, 2)))\n",
    "    except Exception:\n",
    "        pass\n",
    "\n",
    "sorted(result, key=lambda x : x[1], reverse=True)\n"
   ]
  },
  {
   "cell_type": "code",
   "execution_count": 3,
   "metadata": {},
   "outputs": [
    {
     "ename": "SyntaxError",
     "evalue": "import * only allowed at module level (142242695.py, line 1)",
     "output_type": "error",
     "traceback": [
      "\u001b[1;36m  Cell \u001b[1;32mIn[3], line 1\u001b[1;36m\u001b[0m\n\u001b[1;33m    def allest(data, label,X_test,y_test,choose_type):\u001b[0m\n\u001b[1;37m    ^\u001b[0m\n\u001b[1;31mSyntaxError\u001b[0m\u001b[1;31m:\u001b[0m import * only allowed at module level\n"
     ]
    }
   ],
   "source": [
    "from sklearn.utils import *\n",
    "def allest(data, label,X_test,y_test,choose_type):\n",
    " \n",
    "    rets = all_estimators(type_filter= choose_type)#분류 혹은 회귀\n",
    "    result=[]\n",
    "    for name, estimator_ in rets:\n",
    "        try:\n",
    "            model=estimator_()\n",
    "            model.fit(data, label)\n",
    "            sc=model.score(data, label)\n",
    "            result.append((name, round(sc, 2)))\n",
    "            pred = model.predict(X_test)\n",
    "            print(model)\n",
    "            print(model.get_params())\n",
    "            print(r2_score(pred,y_test))\n",
    "            print(mean_squared_error(pred,y_test))\n",
    "            result.append((name, round(r2_score(pred,y_test), 2),round(mean_squared_error(pred,y_test))))\n",
    "        except Exception:\n",
    "            pass\n",
    "\n",
    "    return result\n"
   ]
  },
  {
   "cell_type": "code",
   "execution_count": null,
   "metadata": {},
   "outputs": [],
   "source": []
  }
 ],
 "metadata": {
  "kernelspec": {
   "display_name": "base",
   "language": "python",
   "name": "python3"
  },
  "language_info": {
   "codemirror_mode": {
    "name": "ipython",
    "version": 3
   },
   "file_extension": ".py",
   "mimetype": "text/x-python",
   "name": "python",
   "nbconvert_exporter": "python",
   "pygments_lexer": "ipython3",
   "version": "3.9.16"
  },
  "orig_nbformat": 4
 },
 "nbformat": 4,
 "nbformat_minor": 2
}
