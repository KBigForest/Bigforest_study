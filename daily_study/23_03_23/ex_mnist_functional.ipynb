{
 "cells": [
  {
   "attachments": {},
   "cell_type": "markdown",
   "metadata": {},
   "source": [
    "#### Model based on Functional API\n",
    "- 복잡한 구조의 모델 생성\n",
    "- Subclass가 어려운 경우 해당 방법으로 모델 생성\n",
    "- 기본 동작\n",
    "    * 함수 호출과 인자 전달 방식\n",
    "    * 인자 --- Layer Instance\n",
    "    * Model() 생성자에 인자로 전달\n",
    "        - inputs : 입력층에 해당하는 Layer Instance 지정\n",
    "        - outputs : 출력층에 해당하는 Layer Instance 지정"
   ]
  },
  {
   "cell_type": "code",
   "execution_count": 1,
   "metadata": {},
   "outputs": [],
   "source": [
    "from tensorflow.keras.models import Model\n",
    "from tensorflow.keras.layers import Input, Dense, Flatten, Dropout\n",
    "from tensorflow.keras.datasets.mnist import load_data\n",
    "\n",
    "import numpy as np\n",
    "import matplotlib.pyplot as plt"
   ]
  },
  {
   "attachments": {},
   "cell_type": "markdown",
   "metadata": {},
   "source": [
    "[1] 데이터 로딩 및 준비"
   ]
  },
  {
   "cell_type": "code",
   "execution_count": 2,
   "metadata": {},
   "outputs": [],
   "source": [
    "(X_train, y_train), (X_test, y_test) = load_data()"
   ]
  },
  {
   "attachments": {},
   "cell_type": "markdown",
   "metadata": {},
   "source": [
    "[2] 모델 생성"
   ]
  },
  {
   "attachments": {},
   "cell_type": "markdown",
   "metadata": {},
   "source": [
    "[2-1] 모델 설계"
   ]
  },
  {
   "cell_type": "code",
   "execution_count": 3,
   "metadata": {},
   "outputs": [],
   "source": [
    "# 입력 객체 생성\n",
    "input = Input(shape=(28, 28), name='data_input')"
   ]
  },
  {
   "cell_type": "code",
   "execution_count": 4,
   "metadata": {},
   "outputs": [],
   "source": [
    "# 은닉층 객체 생성\n",
    "flat_layer = Flatten(name='flat_layer')(input)"
   ]
  },
  {
   "cell_type": "code",
   "execution_count": 5,
   "metadata": {},
   "outputs": [],
   "source": [
    "# 출력층 객체 생성 : 퍼셉트론 10개, 활성화함수 softmax\n",
    "output = Dense(10, activation='softmax')(flat_layer)"
   ]
  },
  {
   "cell_type": "code",
   "execution_count": 6,
   "metadata": {},
   "outputs": [],
   "source": [
    "# 모델 객체 생성\n",
    "funcModel = Model(inputs=input, outputs=output, name='Func_Model')"
   ]
  },
  {
   "cell_type": "code",
   "execution_count": 7,
   "metadata": {},
   "outputs": [
    {
     "name": "stdout",
     "output_type": "stream",
     "text": [
      "Model: \"Func_Model\"\n",
      "_________________________________________________________________\n",
      "Layer (type)                 Output Shape              Param #   \n",
      "=================================================================\n",
      "data_input (InputLayer)      [(None, 28, 28)]          0         \n",
      "_________________________________________________________________\n",
      "flat_layer (Flatten)         (None, 784)               0         \n",
      "_________________________________________________________________\n",
      "dense (Dense)                (None, 10)                7850      \n",
      "=================================================================\n",
      "Total params: 7,850\n",
      "Trainable params: 7,850\n",
      "Non-trainable params: 0\n",
      "_________________________________________________________________\n"
     ]
    }
   ],
   "source": [
    "# 모델 정보 확인\n",
    "funcModel.summary()"
   ]
  },
  {
   "attachments": {},
   "cell_type": "markdown",
   "metadata": {},
   "source": [
    "#### 서브클래스 방식 모델"
   ]
  },
  {
   "cell_type": "code",
   "execution_count": 8,
   "metadata": {},
   "outputs": [],
   "source": [
    "class MMModel(Model):\n",
    "    \n",
    "    # 생성자 메서드 정의\n",
    "    def __init__(self, hidden_unit, output_unit, hidden_nums):\n",
    "        # 부모 클래스 생성\n",
    "        super(MMModel, self).__init__()\n",
    "\n",
    "        # 속성\n",
    "        self.flatten_layer = Flatten()      # shape 지정 X\n",
    "        self.hidden_layers = []\n",
    "        for n in range(hidden_nums):\n",
    "            self.hidden_layers.append(Dense(hidden_unit, activation = 'relu',\n",
    "            name = f'dense_{n}'))\n",
    "        self.out_layer = Dense(output_unit, activation = 'softmax')\n",
    "    \n",
    "    # 실행함수 정의\n",
    "    def call(self, x):\n",
    "        print('MMModel의 call()')\n",
    "        ret = self.flatten_layer(x)\n",
    "        for i in self.hidden_layers:\n",
    "            ret = i(ret)\n",
    "        return self.out_layer(ret)"
   ]
  },
  {
   "cell_type": "code",
   "execution_count": 10,
   "metadata": {},
   "outputs": [],
   "source": [
    "mm_Model2 = MMModel(52, 10, 2)"
   ]
  },
  {
   "cell_type": "code",
   "execution_count": 11,
   "metadata": {},
   "outputs": [
    {
     "name": "stdout",
     "output_type": "stream",
     "text": [
      "MMModel의 call()\n"
     ]
    },
    {
     "data": {
      "text/plain": [
       "<tf.Tensor 'mm_model_1/Identity:0' shape=(None, 10) dtype=float32>"
      ]
     },
     "execution_count": 11,
     "metadata": {},
     "output_type": "execute_result"
    }
   ],
   "source": [
    "mm_Model2(Input(shape=(28, 28)))"
   ]
  },
  {
   "cell_type": "code",
   "execution_count": 12,
   "metadata": {},
   "outputs": [
    {
     "name": "stdout",
     "output_type": "stream",
     "text": [
      "Model: \"mm_model_1\"\n",
      "_________________________________________________________________\n",
      "Layer (type)                 Output Shape              Param #   \n",
      "=================================================================\n",
      "flatten_1 (Flatten)          (None, 784)               0         \n",
      "_________________________________________________________________\n",
      "dense_0 (Dense)              (None, 52)                40820     \n",
      "_________________________________________________________________\n",
      "dense_1 (Dense)              (None, 52)                2756      \n",
      "_________________________________________________________________\n",
      "dense_2 (Dense)              (None, 10)                530       \n",
      "=================================================================\n",
      "Total params: 44,106\n",
      "Trainable params: 44,106\n",
      "Non-trainable params: 0\n",
      "_________________________________________________________________\n"
     ]
    }
   ],
   "source": [
    "mm_Model2.summary()"
   ]
  },
  {
   "cell_type": "code",
   "execution_count": 56,
   "metadata": {},
   "outputs": [],
   "source": [
    "mm_Model3 = MMModel(5, 20)"
   ]
  },
  {
   "cell_type": "code",
   "execution_count": 57,
   "metadata": {},
   "outputs": [
    {
     "name": "stdout",
     "output_type": "stream",
     "text": [
      "MMModel의 call()\n"
     ]
    },
    {
     "data": {
      "text/plain": [
       "<KerasTensor: shape=(None, 20) dtype=float32 (created by layer 'mm_model_3')>"
      ]
     },
     "execution_count": 57,
     "metadata": {},
     "output_type": "execute_result"
    }
   ],
   "source": [
    "mm_Model3(Input(shape=(36, 36)))"
   ]
  },
  {
   "cell_type": "code",
   "execution_count": 58,
   "metadata": {},
   "outputs": [
    {
     "name": "stdout",
     "output_type": "stream",
     "text": [
      "Model: \"mm_model_3\"\n",
      "_________________________________________________________________\n",
      "Layer (type)                 Output Shape              Param #   \n",
      "=================================================================\n",
      "flatten_4 (Flatten)          multiple                  0         \n",
      "_________________________________________________________________\n",
      "dense_14 (Dense)             multiple                  6485      \n",
      "_________________________________________________________________\n",
      "dense_15 (Dense)             multiple                  120       \n",
      "=================================================================\n",
      "Total params: 6,605\n",
      "Trainable params: 6,605\n",
      "Non-trainable params: 0\n",
      "_________________________________________________________________\n"
     ]
    }
   ],
   "source": [
    "mm_Model3.summary()"
   ]
  },
  {
   "attachments": {},
   "cell_type": "markdown",
   "metadata": {},
   "source": [
    "[2-2] 모델 생성"
   ]
  },
  {
   "cell_type": "code",
   "execution_count": 35,
   "metadata": {},
   "outputs": [],
   "source": [
    "funcModel.compile(optimizer='adam',\n",
    "loss='sparse_categorical_crossentropy',\n",
    "metrics=['acc'])"
   ]
  },
  {
   "cell_type": "code",
   "execution_count": null,
   "metadata": {},
   "outputs": [],
   "source": [
    "mm_Model3.compile()"
   ]
  },
  {
   "cell_type": "code",
   "execution_count": 14,
   "metadata": {},
   "outputs": [],
   "source": [
    "import tensorflow as tf\n",
    "from tensorflow.keras.datasets.mnist import load_data\n"
   ]
  },
  {
   "cell_type": "code",
   "execution_count": 15,
   "metadata": {},
   "outputs": [],
   "source": [
    "(X_train,y_train), (X_test,y_test) = load_data()"
   ]
  },
  {
   "cell_type": "code",
   "execution_count": 16,
   "metadata": {},
   "outputs": [],
   "source": [
    "X_train = X_train.astype(float)/255\n",
    "X_test = X_test.astype(float)/255"
   ]
  },
  {
   "cell_type": "code",
   "execution_count": 18,
   "metadata": {},
   "outputs": [],
   "source": [
    "X_train_in = X_train[...,tf.newaxis]\n",
    "X_test_in = X_test[...,tf.newaxis]"
   ]
  },
  {
   "cell_type": "code",
   "execution_count": 22,
   "metadata": {},
   "outputs": [
    {
     "data": {
      "text/plain": [
       "((60000, 28, 28, 1), (10000, 28, 28, 1))"
      ]
     },
     "execution_count": 22,
     "metadata": {},
     "output_type": "execute_result"
    }
   ],
   "source": [
    "X_train_in.shape, X_test_in.shape"
   ]
  },
  {
   "cell_type": "code",
   "execution_count": 46,
   "metadata": {},
   "outputs": [],
   "source": [
    "class CNN(tf.keras.Model):\n",
    "    def __init__(self):\n",
    "        super(CNN,self).__init__()\n",
    "        #convolution 적용(filter 32)\n",
    "        self.convolution = tf.keras.Sequential([\n",
    "            tf.keras.layers.Conv2D(32,(3,3), input_shape=(28,28,1)),\n",
    "            tf.keras.layers.ReLU()\n",
    "        ])\n",
    "        #풀링 적용\n",
    "        self.pool = tf.keras.Sequential([\n",
    "            tf.keras.layers.MaxPooling2D((2,2))\n",
    "        ])\n",
    "        self.outlayer = tf.keras.Sequential([\n",
    "            tf.keras.layers.Flatten(),\n",
    "            tf.keras.layers.Dense(10),\n",
    "            tf.keras.layers.Softmax()    \n",
    "        ])\n",
    "    def call(self, x):\n",
    "        x = self.convolution(x)\n",
    "        x = self.pool(x)\n",
    "        x = self.outlayer(x)\n",
    "        return x        "
   ]
  },
  {
   "cell_type": "code",
   "execution_count": 47,
   "metadata": {},
   "outputs": [],
   "source": [
    "model = CNN()\n",
    "model.build(input_shape=(128,28,28,1))"
   ]
  },
  {
   "cell_type": "code",
   "execution_count": 48,
   "metadata": {},
   "outputs": [
    {
     "name": "stdout",
     "output_type": "stream",
     "text": [
      "Model: \"cnn_9\"\n",
      "_________________________________________________________________\n",
      "Layer (type)                 Output Shape              Param #   \n",
      "=================================================================\n",
      "sequential_16 (Sequential)   (None, 26, 26, 32)        320       \n",
      "_________________________________________________________________\n",
      "sequential_17 (Sequential)   multiple                  0         \n",
      "_________________________________________________________________\n",
      "sequential_18 (Sequential)   multiple                  54090     \n",
      "=================================================================\n",
      "Total params: 54,410\n",
      "Trainable params: 54,410\n",
      "Non-trainable params: 0\n",
      "_________________________________________________________________\n"
     ]
    }
   ],
   "source": [
    "model.summary()"
   ]
  },
  {
   "cell_type": "code",
   "execution_count": 49,
   "metadata": {},
   "outputs": [],
   "source": [
    "model.compile(optimizer='Adam', loss= 'sparse_categorical_crossentropy', metrics = ['accuracy'])\n"
   ]
  },
  {
   "cell_type": "code",
   "execution_count": null,
   "metadata": {},
   "outputs": [],
   "source": [
    "tf.keras.callbacks.EarlyStopping(patience=3, monitor='val_loss')"
   ]
  },
  {
   "cell_type": "code",
   "execution_count": 51,
   "metadata": {},
   "outputs": [
    {
     "name": "stdout",
     "output_type": "stream",
     "text": [
      "Train on 60000 samples, validate on 10000 samples\n",
      "Epoch 1/10\n",
      "60000/60000 [==============================] - 11s 177us/sample - loss: 0.0102 - accuracy: 0.9978 - val_loss: 0.0520 - val_accuracy: 0.9854\n",
      "Epoch 2/10\n",
      "60000/60000 [==============================] - 13s 211us/sample - loss: 0.0087 - accuracy: 0.9983 - val_loss: 0.0546 - val_accuracy: 0.9847\n",
      "Epoch 3/10\n",
      "60000/60000 [==============================] - 16s 272us/sample - loss: 0.0078 - accuracy: 0.9986 - val_loss: 0.0550 - val_accuracy: 0.9849\n",
      "Epoch 4/10\n",
      "60000/60000 [==============================] - 16s 259us/sample - loss: 0.0074 - accuracy: 0.9985 - val_loss: 0.0577 - val_accuracy: 0.9851\n",
      "Epoch 5/10\n",
      "60000/60000 [==============================] - 12s 206us/sample - loss: 0.0070 - accuracy: 0.9988 - val_loss: 0.0600 - val_accuracy: 0.9840\n",
      "Epoch 6/10\n",
      "60000/60000 [==============================] - 11s 178us/sample - loss: 0.0063 - accuracy: 0.9991 - val_loss: 0.0641 - val_accuracy: 0.9831\n",
      "Epoch 7/10\n",
      "60000/60000 [==============================] - 10s 175us/sample - loss: 0.0058 - accuracy: 0.9991 - val_loss: 0.0615 - val_accuracy: 0.9843\n",
      "Epoch 8/10\n",
      "60000/60000 [==============================] - 10s 168us/sample - loss: 0.0053 - accuracy: 0.9992 - val_loss: 0.0657 - val_accuracy: 0.9838\n",
      "Epoch 9/10\n",
      "60000/60000 [==============================] - 10s 159us/sample - loss: 0.0046 - accuracy: 0.9994 - val_loss: 0.0654 - val_accuracy: 0.9837\n",
      "Epoch 10/10\n",
      "60000/60000 [==============================] - 10s 162us/sample - loss: 0.0040 - accuracy: 0.9995 - val_loss: 0.0691 - val_accuracy: 0.9838\n"
     ]
    }
   ],
   "source": [
    "history= model.fit(X_train_in, y_train, validation_data=(X_test_in, y_test),epochs =10,batch_size=128)"
   ]
  },
  {
   "cell_type": "code",
   "execution_count": 85,
   "metadata": {},
   "outputs": [
    {
     "data": {
      "text/plain": [
       "(1, 28, 28, 1)"
      ]
     },
     "execution_count": 85,
     "metadata": {},
     "output_type": "execute_result"
    }
   ],
   "source": [
    "xx = X_test_in[0].reshape(1,28,28,1)\n",
    "xx.shape"
   ]
  },
  {
   "cell_type": "code",
   "execution_count": 90,
   "metadata": {},
   "outputs": [
    {
     "data": {
      "text/plain": [
       "<matplotlib.image.AxesImage at 0x2591988bc18>"
      ]
     },
     "execution_count": 90,
     "metadata": {},
     "output_type": "execute_result"
    },
    {
     "data": {
      "image/png": "[encoded data removed]",
      "text/plain": [
       "<Figure size 432x288 with 1 Axes>"
      ]
     },
     "metadata": {
      "needs_background": "light"
     },
     "output_type": "display_data"
    }
   ],
   "source": [
    "plt.imshow(X_test_in[0])"
   ]
  },
  {
   "cell_type": "code",
   "execution_count": 91,
   "metadata": {},
   "outputs": [
    {
     "data": {
      "text/plain": [
       "(10000, 10)"
      ]
     },
     "execution_count": 91,
     "metadata": {},
     "output_type": "execute_result"
    }
   ],
   "source": [
    "pred = model.predict(X_test_in)\n",
    "pred.shape"
   ]
  },
  {
   "cell_type": "code",
   "execution_count": 92,
   "metadata": {},
   "outputs": [
    {
     "data": {
      "text/plain": [
       "7"
      ]
     },
     "execution_count": 92,
     "metadata": {},
     "output_type": "execute_result"
    }
   ],
   "source": [
    "np.argmax(pred[0])"
   ]
  },
  {
   "cell_type": "code",
   "execution_count": null,
   "metadata": {},
   "outputs": [],
   "source": []
  }
 ],
 "metadata": {
  "kernelspec": {
   "display_name": "DL",
   "language": "python",
   "name": "python3"
  },
  "language_info": {
   "codemirror_mode": {
    "name": "ipython",
    "version": 3
   },
   "file_extension": ".py",
   "mimetype": "text/x-python",
   "name": "python",
   "nbconvert_exporter": "python",
   "pygments_lexer": "ipython3",
   "version": "3.6.13"
  },
  "orig_nbformat": 4
 },
 "nbformat": 4,
 "nbformat_minor": 2
}
