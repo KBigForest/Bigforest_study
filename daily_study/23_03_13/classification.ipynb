{
 "cells": [
  {
   "attachments": {},
   "cell_type": "markdown",
   "metadata": {},
   "source": [
    "### 분류 - KNN\n",
    "- 가장 간단한 머신러닝 분류 학습 알고리즘\n",
    "- 모델 관련 패턴식 없음 => 데이터 마다 거리계산\n",
    "- 거리기반 모델\n",
    "- 하이퍼 파라미터: k: 최근접 이웃 데이터의 수\n",
    "- 적용학습: 회귀, 분류 모두 가능"
   ]
  },
  {
   "cell_type": "code",
   "execution_count": 1,
   "metadata": {},
   "outputs": [],
   "source": [
    "from sklearn.neighbors import KNeighborsClassifier\n",
    "import matplotlib.pyplot as plt\n"
   ]
  },
  {
   "cell_type": "code",
   "execution_count": 9,
   "metadata": {},
   "outputs": [
    {
     "data": {
      "text/html": [
       "<style>#sk-container-id-3 {color: black;background-color: white;}#sk-container-id-3 pre{padding: 0;}#sk-container-id-3 div.sk-toggleable {background-color: white;}#sk-container-id-3 label.sk-toggleable__label {cursor: pointer;display: block;width: 100%;margin-bottom: 0;padding: 0.3em;box-sizing: border-box;text-align: center;}#sk-container-id-3 label.sk-toggleable__label-arrow:before {content: \"▸\";float: left;margin-right: 0.25em;color: #696969;}#sk-container-id-3 label.sk-toggleable__label-arrow:hover:before {color: black;}#sk-container-id-3 div.sk-estimator:hover label.sk-toggleable__label-arrow:before {color: black;}#sk-container-id-3 div.sk-toggleable__content {max-height: 0;max-width: 0;overflow: hidden;text-align: left;background-color: #f0f8ff;}#sk-container-id-3 div.sk-toggleable__content pre {margin: 0.2em;color: black;border-radius: 0.25em;background-color: #f0f8ff;}#sk-container-id-3 input.sk-toggleable__control:checked~div.sk-toggleable__content {max-height: 200px;max-width: 100%;overflow: auto;}#sk-container-id-3 input.sk-toggleable__control:checked~label.sk-toggleable__label-arrow:before {content: \"▾\";}#sk-container-id-3 div.sk-estimator input.sk-toggleable__control:checked~label.sk-toggleable__label {background-color: #d4ebff;}#sk-container-id-3 div.sk-label input.sk-toggleable__control:checked~label.sk-toggleable__label {background-color: #d4ebff;}#sk-container-id-3 input.sk-hidden--visually {border: 0;clip: rect(1px 1px 1px 1px);clip: rect(1px, 1px, 1px, 1px);height: 1px;margin: -1px;overflow: hidden;padding: 0;position: absolute;width: 1px;}#sk-container-id-3 div.sk-estimator {font-family: monospace;background-color: #f0f8ff;border: 1px dotted black;border-radius: 0.25em;box-sizing: border-box;margin-bottom: 0.5em;}#sk-container-id-3 div.sk-estimator:hover {background-color: #d4ebff;}#sk-container-id-3 div.sk-parallel-item::after {content: \"\";width: 100%;border-bottom: 1px solid gray;flex-grow: 1;}#sk-container-id-3 div.sk-label:hover label.sk-toggleable__label {background-color: #d4ebff;}#sk-container-id-3 div.sk-serial::before {content: \"\";position: absolute;border-left: 1px solid gray;box-sizing: border-box;top: 0;bottom: 0;left: 50%;z-index: 0;}#sk-container-id-3 div.sk-serial {display: flex;flex-direction: column;align-items: center;background-color: white;padding-right: 0.2em;padding-left: 0.2em;position: relative;}#sk-container-id-3 div.sk-item {position: relative;z-index: 1;}#sk-container-id-3 div.sk-parallel {display: flex;align-items: stretch;justify-content: center;background-color: white;position: relative;}#sk-container-id-3 div.sk-item::before, #sk-container-id-3 div.sk-parallel-item::before {content: \"\";position: absolute;border-left: 1px solid gray;box-sizing: border-box;top: 0;bottom: 0;left: 50%;z-index: -1;}#sk-container-id-3 div.sk-parallel-item {display: flex;flex-direction: column;z-index: 1;position: relative;background-color: white;}#sk-container-id-3 div.sk-parallel-item:first-child::after {align-self: flex-end;width: 50%;}#sk-container-id-3 div.sk-parallel-item:last-child::after {align-self: flex-start;width: 50%;}#sk-container-id-3 div.sk-parallel-item:only-child::after {width: 0;}#sk-container-id-3 div.sk-dashed-wrapped {border: 1px dashed gray;margin: 0 0.4em 0.5em 0.4em;box-sizing: border-box;padding-bottom: 0.4em;background-color: white;}#sk-container-id-3 div.sk-label label {font-family: monospace;font-weight: bold;display: inline-block;line-height: 1.2em;}#sk-container-id-3 div.sk-label-container {text-align: center;}#sk-container-id-3 div.sk-container {/* jupyter's `normalize.less` sets `[hidden] { display: none; }` but bootstrap.min.css set `[hidden] { display: none !important; }` so we also need the `!important` here to be able to override the default hidden behavior on the sphinx rendered scikit-learn.org. See: https://github.com/scikit-learn/scikit-learn/issues/21755 */display: inline-block !important;position: relative;}#sk-container-id-3 div.sk-text-repr-fallback {display: none;}</style><div id=\"sk-container-id-3\" class=\"sk-top-container\"><div class=\"sk-text-repr-fallback\"><pre>KNeighborsClassifier()</pre><b>In a Jupyter environment, please rerun this cell to show the HTML representation or trust the notebook. <br />On GitHub, the HTML representation is unable to render, please try loading this page with nbviewer.org.</b></div><div class=\"sk-container\" hidden><div class=\"sk-item\"><div class=\"sk-estimator sk-toggleable\"><input class=\"sk-toggleable__control sk-hidden--visually\" id=\"sk-estimator-id-3\" type=\"checkbox\" checked><label for=\"sk-estimator-id-3\" class=\"sk-toggleable__label sk-toggleable__label-arrow\">KNeighborsClassifier</label><div class=\"sk-toggleable__content\"><pre>KNeighborsClassifier()</pre></div></div></div></div></div>"
      ],
      "text/plain": [
       "KNeighborsClassifier()"
      ]
     },
     "execution_count": 9,
     "metadata": {},
     "output_type": "execute_result"
    }
   ],
   "source": [
    "X = [[1],[2],[3],[4],[5]]\n",
    "y = [0,1,1,1,0]\n",
    "knn = KNeighborsClassifier()\n",
    "knn.fit(X,y)"
   ]
  },
  {
   "cell_type": "code",
   "execution_count": 17,
   "metadata": {},
   "outputs": [
    {
     "data": {
      "text/plain": [
       "array([[0.4, 0.6]])"
      ]
     },
     "execution_count": 17,
     "metadata": {},
     "output_type": "execute_result"
    }
   ],
   "source": [
    "knn.predict([[1]])\n",
    "knn.predict_proba([[1]])"
   ]
  },
  {
   "attachments": {},
   "cell_type": "markdown",
   "metadata": {},
   "source": [
    "#### 최적의 k 찾기\n"
   ]
  },
  {
   "cell_type": "code",
   "execution_count": 11,
   "metadata": {},
   "outputs": [
    {
     "name": "stdout",
     "output_type": "stream",
     "text": [
      "1: 1.0\n",
      "2: 0.8\n",
      "3: 0.6\n",
      "4: 0.6\n",
      "5: 0.6\n"
     ]
    }
   ],
   "source": [
    "for _k in range(1,6):\n",
    "    knn.n_neighbors = _k\n",
    "    knn.fit(X,y)\n",
    "    print(f'{_k}: {knn.score(X,y)}')\n"
   ]
  },
  {
   "cell_type": "code",
   "execution_count": 18,
   "metadata": {},
   "outputs": [
    {
     "data": {
      "text/html": [
       "<style>#sk-container-id-4 {color: black;background-color: white;}#sk-container-id-4 pre{padding: 0;}#sk-container-id-4 div.sk-toggleable {background-color: white;}#sk-container-id-4 label.sk-toggleable__label {cursor: pointer;display: block;width: 100%;margin-bottom: 0;padding: 0.3em;box-sizing: border-box;text-align: center;}#sk-container-id-4 label.sk-toggleable__label-arrow:before {content: \"▸\";float: left;margin-right: 0.25em;color: #696969;}#sk-container-id-4 label.sk-toggleable__label-arrow:hover:before {color: black;}#sk-container-id-4 div.sk-estimator:hover label.sk-toggleable__label-arrow:before {color: black;}#sk-container-id-4 div.sk-toggleable__content {max-height: 0;max-width: 0;overflow: hidden;text-align: left;background-color: #f0f8ff;}#sk-container-id-4 div.sk-toggleable__content pre {margin: 0.2em;color: black;border-radius: 0.25em;background-color: #f0f8ff;}#sk-container-id-4 input.sk-toggleable__control:checked~div.sk-toggleable__content {max-height: 200px;max-width: 100%;overflow: auto;}#sk-container-id-4 input.sk-toggleable__control:checked~label.sk-toggleable__label-arrow:before {content: \"▾\";}#sk-container-id-4 div.sk-estimator input.sk-toggleable__control:checked~label.sk-toggleable__label {background-color: #d4ebff;}#sk-container-id-4 div.sk-label input.sk-toggleable__control:checked~label.sk-toggleable__label {background-color: #d4ebff;}#sk-container-id-4 input.sk-hidden--visually {border: 0;clip: rect(1px 1px 1px 1px);clip: rect(1px, 1px, 1px, 1px);height: 1px;margin: -1px;overflow: hidden;padding: 0;position: absolute;width: 1px;}#sk-container-id-4 div.sk-estimator {font-family: monospace;background-color: #f0f8ff;border: 1px dotted black;border-radius: 0.25em;box-sizing: border-box;margin-bottom: 0.5em;}#sk-container-id-4 div.sk-estimator:hover {background-color: #d4ebff;}#sk-container-id-4 div.sk-parallel-item::after {content: \"\";width: 100%;border-bottom: 1px solid gray;flex-grow: 1;}#sk-container-id-4 div.sk-label:hover label.sk-toggleable__label {background-color: #d4ebff;}#sk-container-id-4 div.sk-serial::before {content: \"\";position: absolute;border-left: 1px solid gray;box-sizing: border-box;top: 0;bottom: 0;left: 50%;z-index: 0;}#sk-container-id-4 div.sk-serial {display: flex;flex-direction: column;align-items: center;background-color: white;padding-right: 0.2em;padding-left: 0.2em;position: relative;}#sk-container-id-4 div.sk-item {position: relative;z-index: 1;}#sk-container-id-4 div.sk-parallel {display: flex;align-items: stretch;justify-content: center;background-color: white;position: relative;}#sk-container-id-4 div.sk-item::before, #sk-container-id-4 div.sk-parallel-item::before {content: \"\";position: absolute;border-left: 1px solid gray;box-sizing: border-box;top: 0;bottom: 0;left: 50%;z-index: -1;}#sk-container-id-4 div.sk-parallel-item {display: flex;flex-direction: column;z-index: 1;position: relative;background-color: white;}#sk-container-id-4 div.sk-parallel-item:first-child::after {align-self: flex-end;width: 50%;}#sk-container-id-4 div.sk-parallel-item:last-child::after {align-self: flex-start;width: 50%;}#sk-container-id-4 div.sk-parallel-item:only-child::after {width: 0;}#sk-container-id-4 div.sk-dashed-wrapped {border: 1px dashed gray;margin: 0 0.4em 0.5em 0.4em;box-sizing: border-box;padding-bottom: 0.4em;background-color: white;}#sk-container-id-4 div.sk-label label {font-family: monospace;font-weight: bold;display: inline-block;line-height: 1.2em;}#sk-container-id-4 div.sk-label-container {text-align: center;}#sk-container-id-4 div.sk-container {/* jupyter's `normalize.less` sets `[hidden] { display: none; }` but bootstrap.min.css set `[hidden] { display: none !important; }` so we also need the `!important` here to be able to override the default hidden behavior on the sphinx rendered scikit-learn.org. See: https://github.com/scikit-learn/scikit-learn/issues/21755 */display: inline-block !important;position: relative;}#sk-container-id-4 div.sk-text-repr-fallback {display: none;}</style><div id=\"sk-container-id-4\" class=\"sk-top-container\"><div class=\"sk-text-repr-fallback\"><pre>KNeighborsClassifier()</pre><b>In a Jupyter environment, please rerun this cell to show the HTML representation or trust the notebook. <br />On GitHub, the HTML representation is unable to render, please try loading this page with nbviewer.org.</b></div><div class=\"sk-container\" hidden><div class=\"sk-item\"><div class=\"sk-estimator sk-toggleable\"><input class=\"sk-toggleable__control sk-hidden--visually\" id=\"sk-estimator-id-4\" type=\"checkbox\" checked><label for=\"sk-estimator-id-4\" class=\"sk-toggleable__label sk-toggleable__label-arrow\">KNeighborsClassifier</label><div class=\"sk-toggleable__content\"><pre>KNeighborsClassifier()</pre></div></div></div></div></div>"
      ],
      "text/plain": [
       "KNeighborsClassifier()"
      ]
     },
     "execution_count": 18,
     "metadata": {},
     "output_type": "execute_result"
    }
   ],
   "source": [
    "X = [[1],[2],[3],[4],[5],[6],[7],[8],[9]]\n",
    "y = [0,1,1,0,1,1,0,1,1]\n",
    "knn = KNeighborsClassifier()\n",
    "knn.fit(X,y)"
   ]
  },
  {
   "cell_type": "code",
   "execution_count": 25,
   "metadata": {},
   "outputs": [
    {
     "data": {
      "text/plain": [
       "array([[0.4, 0.6]])"
      ]
     },
     "execution_count": 25,
     "metadata": {},
     "output_type": "execute_result"
    }
   ],
   "source": [
    "knn.predict_proba([[5]])"
   ]
  },
  {
   "attachments": {},
   "cell_type": "markdown",
   "metadata": {},
   "source": [
    "### KNN 실습\n",
    "- 데이터 student_info.csv"
   ]
  },
  {
   "attachments": {},
   "cell_type": "markdown",
   "metadata": {},
   "source": [
    "##### 데이터 분석 & 목적\n",
    "- 데이터 구성 => 방법? 지도/비지도\n",
    "- 데이터 목적 => 결과/타겟/종속변수 => 수치형: 회귀, 범주형 분류\n",
    "- 학습 방법 => 해당하는 학습방법 확인 => all_Estimator"
   ]
  },
  {
   "attachments": {},
   "cell_type": "markdown",
   "metadata": {},
   "source": [
    "#### [1]데이터 준비\n",
    "- 데이터로딩"
   ]
  },
  {
   "attachments": {},
   "cell_type": "markdown",
   "metadata": {},
   "source": [
    "#### [2]데이터 전처리\n",
    "- 데이터 정제: 결측치, 중복값, 이상치, 모순값 확인 및 처리\n",
    "- 데이터 표준화: 단위, 자료형\n",
    "- 데이터 정규화: 수치값=> 값의 범위를 일치시킴.: 통일 --> 스케일러\n",
    "    *범주형/글자 =>OrdinalEncoder, OneHotEncoder, LabelEncoder(y)\n",
    "    "
   ]
  },
  {
   "attachments": {},
   "cell_type": "markdown",
   "metadata": {},
   "source": [
    "#### [3]학습용 데이터 준비 ==> 학습용, 테스트용, 검증용\n",
    "- 분류 => 항목비율\n",
    " * 데이터 추가\n",
    " * 업샘플링/다운샘플링\n",
    " * API매개변수에 비율조정한 매겨변수 체크(stratify = 타겟)"
   ]
  },
  {
   "attachments": {},
   "cell_type": "markdown",
   "metadata": {},
   "source": [
    "#### [4]학습 모델 객체 생성 및 학습 진행"
   ]
  },
  {
   "attachments": {},
   "cell_type": "markdown",
   "metadata": {},
   "source": [
    "#### [5] 예측 및 평가"
   ]
  },
  {
   "cell_type": "code",
   "execution_count": 225,
   "metadata": {},
   "outputs": [
    {
     "data": {
      "text/html": [
       "<div>\n",
       "<style scoped>\n",
       "    .dataframe tbody tr th:only-of-type {\n",
       "        vertical-align: middle;\n",
       "    }\n",
       "\n",
       "    .dataframe tbody tr th {\n",
       "        vertical-align: top;\n",
       "    }\n",
       "\n",
       "    .dataframe thead th {\n",
       "        text-align: right;\n",
       "    }\n",
       "</style>\n",
       "<table border=\"1\" class=\"dataframe\">\n",
       "  <thead>\n",
       "    <tr style=\"text-align: right;\">\n",
       "      <th></th>\n",
       "      <th>no</th>\n",
       "      <th>gender</th>\n",
       "      <th>weight_kg</th>\n",
       "      <th>height_cm</th>\n",
       "    </tr>\n",
       "  </thead>\n",
       "  <tbody>\n",
       "    <tr>\n",
       "      <th>0</th>\n",
       "      <td>1</td>\n",
       "      <td>m</td>\n",
       "      <td>98</td>\n",
       "      <td>198</td>\n",
       "    </tr>\n",
       "    <tr>\n",
       "      <th>1</th>\n",
       "      <td>2</td>\n",
       "      <td>m</td>\n",
       "      <td>77</td>\n",
       "      <td>170</td>\n",
       "    </tr>\n",
       "    <tr>\n",
       "      <th>2</th>\n",
       "      <td>3</td>\n",
       "      <td>m</td>\n",
       "      <td>70</td>\n",
       "      <td>170</td>\n",
       "    </tr>\n",
       "    <tr>\n",
       "      <th>3</th>\n",
       "      <td>4</td>\n",
       "      <td>m</td>\n",
       "      <td>90</td>\n",
       "      <td>198</td>\n",
       "    </tr>\n",
       "    <tr>\n",
       "      <th>4</th>\n",
       "      <td>5</td>\n",
       "      <td>m</td>\n",
       "      <td>71</td>\n",
       "      <td>170</td>\n",
       "    </tr>\n",
       "  </tbody>\n",
       "</table>\n",
       "</div>"
      ],
      "text/plain": [
       "   no gender  weight_kg  height_cm\n",
       "0   1      m         98        198\n",
       "1   2      m         77        170\n",
       "2   3      m         70        170\n",
       "3   4      m         90        198\n",
       "4   5      m         71        170"
      ]
     },
     "execution_count": 225,
     "metadata": {},
     "output_type": "execute_result"
    }
   ],
   "source": [
    "import pandas as pd\n",
    "from sklearn.model_selection import train_test_split\n",
    "from sklearn.neighbors import KNeighborsClassifier\n",
    "from sklearn.preprocessing import StandardScaler, MinMaxScaler\n",
    "from sklearn.metrics import accuracy_score\n",
    "stdf = pd.read_csv('../dataset/student_info.csv')\n",
    "stdf.head()"
   ]
  },
  {
   "cell_type": "code",
   "execution_count": 226,
   "metadata": {},
   "outputs": [
    {
     "name": "stdout",
     "output_type": "stream",
     "text": [
      "<class 'pandas.core.frame.DataFrame'>\n",
      "RangeIndex: 90 entries, 0 to 89\n",
      "Data columns (total 4 columns):\n",
      " #   Column     Non-Null Count  Dtype \n",
      "---  ------     --------------  ----- \n",
      " 0   no         90 non-null     int64 \n",
      " 1   gender     90 non-null     object\n",
      " 2   weight_kg  90 non-null     int64 \n",
      " 3   height_cm  90 non-null     int64 \n",
      "dtypes: int64(3), object(1)\n",
      "memory usage: 2.9+ KB\n"
     ]
    }
   ],
   "source": [
    "stdf.info()"
   ]
  },
  {
   "cell_type": "code",
   "execution_count": 227,
   "metadata": {},
   "outputs": [],
   "source": [
    "stdf.isnull().sum()\n",
    "stdf.drop(columns=['gender','no'], axis=1, inplace=True)"
   ]
  },
  {
   "cell_type": "code",
   "execution_count": 228,
   "metadata": {},
   "outputs": [
    {
     "data": {
      "text/plain": [
       "0     1\n",
       "1     1\n",
       "2     1\n",
       "3     0\n",
       "4     1\n",
       "     ..\n",
       "85    1\n",
       "86    0\n",
       "87    0\n",
       "88    1\n",
       "89    1\n",
       "Name: bmi, Length: 90, dtype: category\n",
       "Categories (3, int64): [0 < 1 < 2]"
      ]
     },
     "execution_count": 228,
     "metadata": {},
     "output_type": "execute_result"
    }
   ],
   "source": [
    "bmi= round(stdf.weight_kg/((stdf.height_cm/100)**2),2)\n",
    "bins = [0,23,35,max(bmi)]\n",
    "label = [0,1,2]\n",
    "bmi = pd.cut(bmi,bins, labels=label)\n",
    "stdf['bmi'] = bmi\n",
    "stdf['bmi']"
   ]
  },
  {
   "cell_type": "code",
   "execution_count": 229,
   "metadata": {},
   "outputs": [],
   "source": [
    "#데이터 타켓 라벨클래스 분리\n",
    "mmt = MinMaxScaler(feature_range=(0, 1))\n",
    "mmt_data = mmt.fit_transform(stdf)\n",
    "\n",
    "ss = StandardScaler()\n",
    "ss_data = ss.fit_transform(stdf)"
   ]
  },
  {
   "cell_type": "code",
   "execution_count": 230,
   "metadata": {},
   "outputs": [
    {
     "data": {
      "text/plain": [
       "0.8888888888888888"
      ]
     },
     "execution_count": 230,
     "metadata": {},
     "output_type": "execute_result"
    }
   ],
   "source": [
    "stdf_data = stdf[stdf.columns[:-1]]\n",
    "stdf_target = stdf[stdf.columns[-1]]\n",
    "X_train, X_test, y_train, y_test = train_test_split(stdf_data, stdf_target, test_size=0.2,random_state=160,stratify=stdf_target)\n",
    "KNN= KNeighborsClassifier(n_neighbors=4)\n",
    "model = KNN.fit(X_train,y_train)\n",
    "len(X_train)\n",
    "KNN.score(X_test,y_test)"
   ]
  },
  {
   "cell_type": "code",
   "execution_count": 236,
   "metadata": {},
   "outputs": [
    {
     "name": "stdout",
     "output_type": "stream",
     "text": [
      "n_neighbors = 1: 0.89\n",
      "0.8888888888888888\n",
      "n_neighbors = 2: 0.89\n",
      "0.8888888888888888\n",
      "n_neighbors = 3: 1.0\n",
      "1.0\n",
      "n_neighbors = 4: 0.89\n",
      "0.8888888888888888\n",
      "n_neighbors = 5: 1.0\n",
      "1.0\n",
      "n_neighbors = 6: 0.94\n",
      "0.9444444444444444\n",
      "n_neighbors = 7: 0.94\n",
      "0.9444444444444444\n",
      "n_neighbors = 8: 0.94\n",
      "0.9444444444444444\n",
      "n_neighbors = 9: 0.94\n",
      "0.9444444444444444\n",
      "n_neighbors = 10: 0.94\n",
      "0.9444444444444444\n",
      "n_neighbors = 11: 1.0\n",
      "1.0\n",
      "n_neighbors = 12: 0.94\n",
      "0.9444444444444444\n",
      "n_neighbors = 13: 0.94\n",
      "0.9444444444444444\n",
      "n_neighbors = 14: 0.94\n",
      "0.9444444444444444\n",
      "n_neighbors = 15: 0.94\n",
      "0.9444444444444444\n",
      "n_neighbors = 16: 0.83\n",
      "0.8333333333333334\n",
      "n_neighbors = 17: 0.83\n",
      "0.8333333333333334\n",
      "n_neighbors = 18: 0.83\n",
      "0.8333333333333334\n",
      "n_neighbors = 19: 0.83\n",
      "0.8333333333333334\n",
      "n_neighbors = 20: 0.83\n",
      "0.8333333333333334\n",
      "n_neighbors = 21: 0.78\n",
      "0.7777777777777778\n",
      "n_neighbors = 22: 0.83\n",
      "0.8333333333333334\n",
      "n_neighbors = 23: 0.78\n",
      "0.7777777777777778\n",
      "n_neighbors = 24: 0.78\n",
      "0.7777777777777778\n",
      "n_neighbors = 25: 0.78\n",
      "0.7777777777777778\n",
      "n_neighbors = 26: 0.78\n",
      "0.7777777777777778\n",
      "n_neighbors = 27: 0.78\n",
      "0.7777777777777778\n",
      "n_neighbors = 28: 0.78\n",
      "0.7777777777777778\n",
      "n_neighbors = 29: 0.78\n",
      "0.7777777777777778\n",
      "n_neighbors = 30: 0.78\n",
      "0.7777777777777778\n",
      "n_neighbors = 31: 0.78\n",
      "0.7777777777777778\n",
      "n_neighbors = 32: 0.78\n",
      "0.7777777777777778\n",
      "n_neighbors = 33: 0.61\n",
      "0.6111111111111112\n",
      "n_neighbors = 34: 0.56\n",
      "0.5555555555555556\n",
      "n_neighbors = 35: 0.56\n",
      "0.5555555555555556\n",
      "n_neighbors = 36: 0.56\n",
      "0.5555555555555556\n",
      "n_neighbors = 37: 0.56\n",
      "0.5555555555555556\n",
      "n_neighbors = 38: 0.56\n",
      "0.5555555555555556\n",
      "n_neighbors = 39: 0.56\n",
      "0.5555555555555556\n",
      "n_neighbors = 40: 0.56\n",
      "0.5555555555555556\n",
      "n_neighbors = 41: 0.56\n",
      "0.5555555555555556\n",
      "n_neighbors = 42: 0.56\n",
      "0.5555555555555556\n",
      "n_neighbors = 43: 0.5\n",
      "0.5\n",
      "n_neighbors = 44: 0.5\n",
      "0.5\n",
      "n_neighbors = 45: 0.5\n",
      "0.5\n",
      "n_neighbors = 46: 0.5\n",
      "0.5\n",
      "n_neighbors = 47: 0.5\n",
      "0.5\n",
      "n_neighbors = 48: 0.5\n",
      "0.5\n",
      "n_neighbors = 49: 0.5\n",
      "0.5\n",
      "n_neighbors = 50: 0.5\n",
      "0.5\n",
      "n_neighbors = 51: 0.5\n",
      "0.5\n",
      "n_neighbors = 52: 0.5\n",
      "0.5\n",
      "n_neighbors = 53: 0.5\n",
      "0.5\n",
      "n_neighbors = 54: 0.5\n",
      "0.5\n",
      "n_neighbors = 55: 0.5\n",
      "0.5\n",
      "n_neighbors = 56: 0.5\n",
      "0.5\n",
      "n_neighbors = 57: 0.5\n",
      "0.5\n",
      "n_neighbors = 58: 0.5\n",
      "0.5\n",
      "n_neighbors = 59: 0.5\n",
      "0.5\n",
      "n_neighbors = 60: 0.5\n",
      "0.5\n",
      "n_neighbors = 61: 0.5\n",
      "0.5\n",
      "n_neighbors = 62: 0.5\n",
      "0.5\n",
      "n_neighbors = 63: 0.5\n",
      "0.5\n",
      "n_neighbors = 64: 0.5\n",
      "0.5\n",
      "n_neighbors = 65: 0.5\n",
      "0.5\n",
      "n_neighbors = 66: 0.5\n",
      "0.5\n",
      "n_neighbors = 67: 0.5\n",
      "0.5\n",
      "n_neighbors = 68: 0.5\n",
      "0.5\n",
      "n_neighbors = 69: 0.5\n",
      "0.5\n",
      "n_neighbors = 70: 0.5\n",
      "0.5\n",
      "n_neighbors = 71: 0.5\n",
      "0.5\n"
     ]
    },
    {
     "data": {
      "image/png": "[encoded data removed]",
      "text/plain": [
       "<Figure size 640x480 with 1 Axes>"
      ]
     },
     "metadata": {},
     "output_type": "display_data"
    }
   ],
   "source": [
    "accuracy = []\n",
    "k_list= range(1,71)\n",
    "\n",
    "for i in range(1,X_train.shape[0]):\n",
    "    KNN = KNeighborsClassifier(n_neighbors=i)\n",
    "    KNN.fit(X_train,y_train)\n",
    "    print(f'n_neighbors = {i}: {round(KNN.score(X_test, y_test),2)}')\n",
    "    accuracy.append(round(KNN.score(X_test, y_test),2))\n",
    "    y_pred=KNN.predict(X_test)\n",
    "    accuracy_score_ = accuracy_score(y_test, y_pred)\n",
    "    print(accuracy_score_)\n",
    "plt.plot(accuracy)\n",
    "plt.xlabel(\"k\")\n",
    "plt.ylabel(\"Validation Accuracy\")\n",
    "plt.title(\"Breast Cancer Classifier Accuracy\")\n",
    "plt.show()\n"
   ]
  },
  {
   "cell_type": "code",
   "execution_count": 237,
   "metadata": {},
   "outputs": [
    {
     "data": {
      "text/plain": [
       "0.5"
      ]
     },
     "execution_count": 237,
     "metadata": {},
     "output_type": "execute_result"
    }
   ],
   "source": [
    "y_pred=KNN.predict(X_test)\n",
    "accuracy_score_ = accuracy_score(y_test, y_pred)\n",
    "accuracy_score_\n"
   ]
  },
  {
   "attachments": {},
   "cell_type": "markdown",
   "metadata": {},
   "source": [
    "#### [6]결과\n",
    "- 성능 만족스럽지 않음 ==> 튜닝 하이퍼파라미터\n",
    "- 성능 만족 ==> 모델 저장"
   ]
  },
  {
   "cell_type": "code",
   "execution_count": 238,
   "metadata": {},
   "outputs": [],
   "source": [
    "from sklearn.model_selection import GridSearchCV\n"
   ]
  },
  {
   "cell_type": "code",
   "execution_count": 241,
   "metadata": {},
   "outputs": [
    {
     "data": {
      "text/html": [
       "<style>#sk-container-id-6 {color: black;background-color: white;}#sk-container-id-6 pre{padding: 0;}#sk-container-id-6 div.sk-toggleable {background-color: white;}#sk-container-id-6 label.sk-toggleable__label {cursor: pointer;display: block;width: 100%;margin-bottom: 0;padding: 0.3em;box-sizing: border-box;text-align: center;}#sk-container-id-6 label.sk-toggleable__label-arrow:before {content: \"▸\";float: left;margin-right: 0.25em;color: #696969;}#sk-container-id-6 label.sk-toggleable__label-arrow:hover:before {color: black;}#sk-container-id-6 div.sk-estimator:hover label.sk-toggleable__label-arrow:before {color: black;}#sk-container-id-6 div.sk-toggleable__content {max-height: 0;max-width: 0;overflow: hidden;text-align: left;background-color: #f0f8ff;}#sk-container-id-6 div.sk-toggleable__content pre {margin: 0.2em;color: black;border-radius: 0.25em;background-color: #f0f8ff;}#sk-container-id-6 input.sk-toggleable__control:checked~div.sk-toggleable__content {max-height: 200px;max-width: 100%;overflow: auto;}#sk-container-id-6 input.sk-toggleable__control:checked~label.sk-toggleable__label-arrow:before {content: \"▾\";}#sk-container-id-6 div.sk-estimator input.sk-toggleable__control:checked~label.sk-toggleable__label {background-color: #d4ebff;}#sk-container-id-6 div.sk-label input.sk-toggleable__control:checked~label.sk-toggleable__label {background-color: #d4ebff;}#sk-container-id-6 input.sk-hidden--visually {border: 0;clip: rect(1px 1px 1px 1px);clip: rect(1px, 1px, 1px, 1px);height: 1px;margin: -1px;overflow: hidden;padding: 0;position: absolute;width: 1px;}#sk-container-id-6 div.sk-estimator {font-family: monospace;background-color: #f0f8ff;border: 1px dotted black;border-radius: 0.25em;box-sizing: border-box;margin-bottom: 0.5em;}#sk-container-id-6 div.sk-estimator:hover {background-color: #d4ebff;}#sk-container-id-6 div.sk-parallel-item::after {content: \"\";width: 100%;border-bottom: 1px solid gray;flex-grow: 1;}#sk-container-id-6 div.sk-label:hover label.sk-toggleable__label {background-color: #d4ebff;}#sk-container-id-6 div.sk-serial::before {content: \"\";position: absolute;border-left: 1px solid gray;box-sizing: border-box;top: 0;bottom: 0;left: 50%;z-index: 0;}#sk-container-id-6 div.sk-serial {display: flex;flex-direction: column;align-items: center;background-color: white;padding-right: 0.2em;padding-left: 0.2em;position: relative;}#sk-container-id-6 div.sk-item {position: relative;z-index: 1;}#sk-container-id-6 div.sk-parallel {display: flex;align-items: stretch;justify-content: center;background-color: white;position: relative;}#sk-container-id-6 div.sk-item::before, #sk-container-id-6 div.sk-parallel-item::before {content: \"\";position: absolute;border-left: 1px solid gray;box-sizing: border-box;top: 0;bottom: 0;left: 50%;z-index: -1;}#sk-container-id-6 div.sk-parallel-item {display: flex;flex-direction: column;z-index: 1;position: relative;background-color: white;}#sk-container-id-6 div.sk-parallel-item:first-child::after {align-self: flex-end;width: 50%;}#sk-container-id-6 div.sk-parallel-item:last-child::after {align-self: flex-start;width: 50%;}#sk-container-id-6 div.sk-parallel-item:only-child::after {width: 0;}#sk-container-id-6 div.sk-dashed-wrapped {border: 1px dashed gray;margin: 0 0.4em 0.5em 0.4em;box-sizing: border-box;padding-bottom: 0.4em;background-color: white;}#sk-container-id-6 div.sk-label label {font-family: monospace;font-weight: bold;display: inline-block;line-height: 1.2em;}#sk-container-id-6 div.sk-label-container {text-align: center;}#sk-container-id-6 div.sk-container {/* jupyter's `normalize.less` sets `[hidden] { display: none; }` but bootstrap.min.css set `[hidden] { display: none !important; }` so we also need the `!important` here to be able to override the default hidden behavior on the sphinx rendered scikit-learn.org. See: https://github.com/scikit-learn/scikit-learn/issues/21755 */display: inline-block !important;position: relative;}#sk-container-id-6 div.sk-text-repr-fallback {display: none;}</style><div id=\"sk-container-id-6\" class=\"sk-top-container\"><div class=\"sk-text-repr-fallback\"><pre>GridSearchCV(cv=5, estimator=KNeighborsClassifier(),\n",
       "             param_grid={&#x27;n_neighbors&#x27;: [1, 2, 3, 4, 5, 6, 7, 8, 9, 10, 11, 12,\n",
       "                                         13, 14, 15, 16, 17, 18, 19, 20, 21, 22,\n",
       "                                         23, 24, 25, 26, 27, 28, 29],\n",
       "                         &#x27;p&#x27;: [1, 2], &#x27;weights&#x27;: [&#x27;uniform&#x27;, &#x27;distance&#x27;]},\n",
       "             scoring=&#x27;accuracy&#x27;)</pre><b>In a Jupyter environment, please rerun this cell to show the HTML representation or trust the notebook. <br />On GitHub, the HTML representation is unable to render, please try loading this page with nbviewer.org.</b></div><div class=\"sk-container\" hidden><div class=\"sk-item sk-dashed-wrapped\"><div class=\"sk-label-container\"><div class=\"sk-label sk-toggleable\"><input class=\"sk-toggleable__control sk-hidden--visually\" id=\"sk-estimator-id-6\" type=\"checkbox\" ><label for=\"sk-estimator-id-6\" class=\"sk-toggleable__label sk-toggleable__label-arrow\">GridSearchCV</label><div class=\"sk-toggleable__content\"><pre>GridSearchCV(cv=5, estimator=KNeighborsClassifier(),\n",
       "             param_grid={&#x27;n_neighbors&#x27;: [1, 2, 3, 4, 5, 6, 7, 8, 9, 10, 11, 12,\n",
       "                                         13, 14, 15, 16, 17, 18, 19, 20, 21, 22,\n",
       "                                         23, 24, 25, 26, 27, 28, 29],\n",
       "                         &#x27;p&#x27;: [1, 2], &#x27;weights&#x27;: [&#x27;uniform&#x27;, &#x27;distance&#x27;]},\n",
       "             scoring=&#x27;accuracy&#x27;)</pre></div></div></div><div class=\"sk-parallel\"><div class=\"sk-parallel-item\"><div class=\"sk-item\"><div class=\"sk-label-container\"><div class=\"sk-label sk-toggleable\"><input class=\"sk-toggleable__control sk-hidden--visually\" id=\"sk-estimator-id-7\" type=\"checkbox\" ><label for=\"sk-estimator-id-7\" class=\"sk-toggleable__label sk-toggleable__label-arrow\">estimator: KNeighborsClassifier</label><div class=\"sk-toggleable__content\"><pre>KNeighborsClassifier()</pre></div></div></div><div class=\"sk-serial\"><div class=\"sk-item\"><div class=\"sk-estimator sk-toggleable\"><input class=\"sk-toggleable__control sk-hidden--visually\" id=\"sk-estimator-id-8\" type=\"checkbox\" ><label for=\"sk-estimator-id-8\" class=\"sk-toggleable__label sk-toggleable__label-arrow\">KNeighborsClassifier</label><div class=\"sk-toggleable__content\"><pre>KNeighborsClassifier()</pre></div></div></div></div></div></div></div></div></div></div>"
      ],
      "text/plain": [
       "GridSearchCV(cv=5, estimator=KNeighborsClassifier(),\n",
       "             param_grid={'n_neighbors': [1, 2, 3, 4, 5, 6, 7, 8, 9, 10, 11, 12,\n",
       "                                         13, 14, 15, 16, 17, 18, 19, 20, 21, 22,\n",
       "                                         23, 24, 25, 26, 27, 28, 29],\n",
       "                         'p': [1, 2], 'weights': ['uniform', 'distance']},\n",
       "             scoring='accuracy')"
      ]
     },
     "execution_count": 241,
     "metadata": {},
     "output_type": "execute_result"
    }
   ],
   "source": [
    "#하이퍼 파라미터  n_neighbors\n",
    "model = KNeighborsClassifier()\n",
    "param_grid = {'n_neighbors': [i for i in range(1,30)], 'weights': ['uniform', 'distance'], 'p':[1,2]}\n",
    "GScv = GridSearchCV(model, param_grid=param_grid, scoring='accuracy', cv=5,refit=True)\n",
    "GScv.fit(X_train, y_train)\n",
    "GScv"
   ]
  },
  {
   "cell_type": "code",
   "execution_count": 248,
   "metadata": {},
   "outputs": [
    {
     "data": {
      "text/html": [
       "<div>\n",
       "<style scoped>\n",
       "    .dataframe tbody tr th:only-of-type {\n",
       "        vertical-align: middle;\n",
       "    }\n",
       "\n",
       "    .dataframe tbody tr th {\n",
       "        vertical-align: top;\n",
       "    }\n",
       "\n",
       "    .dataframe thead th {\n",
       "        text-align: right;\n",
       "    }\n",
       "</style>\n",
       "<table border=\"1\" class=\"dataframe\">\n",
       "  <thead>\n",
       "    <tr style=\"text-align: right;\">\n",
       "      <th></th>\n",
       "      <th>mean_fit_time</th>\n",
       "      <th>std_fit_time</th>\n",
       "      <th>mean_score_time</th>\n",
       "      <th>std_score_time</th>\n",
       "      <th>param_n_neighbors</th>\n",
       "      <th>param_p</th>\n",
       "      <th>param_weights</th>\n",
       "      <th>params</th>\n",
       "      <th>split0_test_score</th>\n",
       "      <th>split1_test_score</th>\n",
       "      <th>split2_test_score</th>\n",
       "      <th>split3_test_score</th>\n",
       "      <th>split4_test_score</th>\n",
       "      <th>mean_test_score</th>\n",
       "      <th>std_test_score</th>\n",
       "      <th>rank_test_score</th>\n",
       "    </tr>\n",
       "  </thead>\n",
       "  <tbody>\n",
       "    <tr>\n",
       "      <th>0</th>\n",
       "      <td>0.002407</td>\n",
       "      <td>0.000797</td>\n",
       "      <td>0.002250</td>\n",
       "      <td>0.000973</td>\n",
       "      <td>1</td>\n",
       "      <td>1</td>\n",
       "      <td>uniform</td>\n",
       "      <td>{'n_neighbors': 1, 'p': 1, 'weights': 'uniform'}</td>\n",
       "      <td>0.933333</td>\n",
       "      <td>0.733333</td>\n",
       "      <td>0.857143</td>\n",
       "      <td>1.000000</td>\n",
       "      <td>1.000000</td>\n",
       "      <td>0.904762</td>\n",
       "      <td>0.100610</td>\n",
       "      <td>18</td>\n",
       "    </tr>\n",
       "    <tr>\n",
       "      <th>1</th>\n",
       "      <td>0.001799</td>\n",
       "      <td>0.000399</td>\n",
       "      <td>0.001600</td>\n",
       "      <td>0.000490</td>\n",
       "      <td>1</td>\n",
       "      <td>1</td>\n",
       "      <td>distance</td>\n",
       "      <td>{'n_neighbors': 1, 'p': 1, 'weights': 'distance'}</td>\n",
       "      <td>0.933333</td>\n",
       "      <td>0.733333</td>\n",
       "      <td>0.857143</td>\n",
       "      <td>1.000000</td>\n",
       "      <td>1.000000</td>\n",
       "      <td>0.904762</td>\n",
       "      <td>0.100610</td>\n",
       "      <td>18</td>\n",
       "    </tr>\n",
       "    <tr>\n",
       "      <th>2</th>\n",
       "      <td>0.001801</td>\n",
       "      <td>0.000747</td>\n",
       "      <td>0.002199</td>\n",
       "      <td>0.000400</td>\n",
       "      <td>1</td>\n",
       "      <td>2</td>\n",
       "      <td>uniform</td>\n",
       "      <td>{'n_neighbors': 1, 'p': 2, 'weights': 'uniform'}</td>\n",
       "      <td>0.933333</td>\n",
       "      <td>0.666667</td>\n",
       "      <td>0.928571</td>\n",
       "      <td>1.000000</td>\n",
       "      <td>1.000000</td>\n",
       "      <td>0.905714</td>\n",
       "      <td>0.123457</td>\n",
       "      <td>15</td>\n",
       "    </tr>\n",
       "    <tr>\n",
       "      <th>3</th>\n",
       "      <td>0.001403</td>\n",
       "      <td>0.000494</td>\n",
       "      <td>0.000998</td>\n",
       "      <td>0.000004</td>\n",
       "      <td>1</td>\n",
       "      <td>2</td>\n",
       "      <td>distance</td>\n",
       "      <td>{'n_neighbors': 1, 'p': 2, 'weights': 'distance'}</td>\n",
       "      <td>0.933333</td>\n",
       "      <td>0.666667</td>\n",
       "      <td>0.928571</td>\n",
       "      <td>1.000000</td>\n",
       "      <td>1.000000</td>\n",
       "      <td>0.905714</td>\n",
       "      <td>0.123457</td>\n",
       "      <td>15</td>\n",
       "    </tr>\n",
       "    <tr>\n",
       "      <th>4</th>\n",
       "      <td>0.001203</td>\n",
       "      <td>0.000407</td>\n",
       "      <td>0.001402</td>\n",
       "      <td>0.000799</td>\n",
       "      <td>2</td>\n",
       "      <td>1</td>\n",
       "      <td>uniform</td>\n",
       "      <td>{'n_neighbors': 2, 'p': 1, 'weights': 'uniform'}</td>\n",
       "      <td>0.933333</td>\n",
       "      <td>0.733333</td>\n",
       "      <td>0.857143</td>\n",
       "      <td>0.928571</td>\n",
       "      <td>1.000000</td>\n",
       "      <td>0.890476</td>\n",
       "      <td>0.090651</td>\n",
       "      <td>30</td>\n",
       "    </tr>\n",
       "    <tr>\n",
       "      <th>...</th>\n",
       "      <td>...</td>\n",
       "      <td>...</td>\n",
       "      <td>...</td>\n",
       "      <td>...</td>\n",
       "      <td>...</td>\n",
       "      <td>...</td>\n",
       "      <td>...</td>\n",
       "      <td>...</td>\n",
       "      <td>...</td>\n",
       "      <td>...</td>\n",
       "      <td>...</td>\n",
       "      <td>...</td>\n",
       "      <td>...</td>\n",
       "      <td>...</td>\n",
       "      <td>...</td>\n",
       "      <td>...</td>\n",
       "    </tr>\n",
       "    <tr>\n",
       "      <th>111</th>\n",
       "      <td>0.001000</td>\n",
       "      <td>0.000635</td>\n",
       "      <td>0.001686</td>\n",
       "      <td>0.000594</td>\n",
       "      <td>28</td>\n",
       "      <td>2</td>\n",
       "      <td>distance</td>\n",
       "      <td>{'n_neighbors': 28, 'p': 2, 'weights': 'distan...</td>\n",
       "      <td>0.933333</td>\n",
       "      <td>0.733333</td>\n",
       "      <td>0.857143</td>\n",
       "      <td>0.928571</td>\n",
       "      <td>0.928571</td>\n",
       "      <td>0.876190</td>\n",
       "      <td>0.076842</td>\n",
       "      <td>48</td>\n",
       "    </tr>\n",
       "    <tr>\n",
       "      <th>112</th>\n",
       "      <td>0.000996</td>\n",
       "      <td>0.000004</td>\n",
       "      <td>0.001400</td>\n",
       "      <td>0.000486</td>\n",
       "      <td>29</td>\n",
       "      <td>1</td>\n",
       "      <td>uniform</td>\n",
       "      <td>{'n_neighbors': 29, 'p': 1, 'weights': 'uniform'}</td>\n",
       "      <td>0.466667</td>\n",
       "      <td>0.533333</td>\n",
       "      <td>0.571429</td>\n",
       "      <td>0.571429</td>\n",
       "      <td>0.428571</td>\n",
       "      <td>0.514286</td>\n",
       "      <td>0.057459</td>\n",
       "      <td>116</td>\n",
       "    </tr>\n",
       "    <tr>\n",
       "      <th>113</th>\n",
       "      <td>0.001003</td>\n",
       "      <td>0.000010</td>\n",
       "      <td>0.001199</td>\n",
       "      <td>0.000407</td>\n",
       "      <td>29</td>\n",
       "      <td>1</td>\n",
       "      <td>distance</td>\n",
       "      <td>{'n_neighbors': 29, 'p': 1, 'weights': 'distan...</td>\n",
       "      <td>0.933333</td>\n",
       "      <td>0.733333</td>\n",
       "      <td>0.857143</td>\n",
       "      <td>0.928571</td>\n",
       "      <td>0.928571</td>\n",
       "      <td>0.876190</td>\n",
       "      <td>0.076842</td>\n",
       "      <td>48</td>\n",
       "    </tr>\n",
       "    <tr>\n",
       "      <th>114</th>\n",
       "      <td>0.001020</td>\n",
       "      <td>0.000046</td>\n",
       "      <td>0.001394</td>\n",
       "      <td>0.000483</td>\n",
       "      <td>29</td>\n",
       "      <td>2</td>\n",
       "      <td>uniform</td>\n",
       "      <td>{'n_neighbors': 29, 'p': 2, 'weights': 'uniform'}</td>\n",
       "      <td>0.533333</td>\n",
       "      <td>0.533333</td>\n",
       "      <td>0.642857</td>\n",
       "      <td>0.642857</td>\n",
       "      <td>0.500000</td>\n",
       "      <td>0.570476</td>\n",
       "      <td>0.060339</td>\n",
       "      <td>115</td>\n",
       "    </tr>\n",
       "    <tr>\n",
       "      <th>115</th>\n",
       "      <td>0.001204</td>\n",
       "      <td>0.000382</td>\n",
       "      <td>0.001395</td>\n",
       "      <td>0.000494</td>\n",
       "      <td>29</td>\n",
       "      <td>2</td>\n",
       "      <td>distance</td>\n",
       "      <td>{'n_neighbors': 29, 'p': 2, 'weights': 'distan...</td>\n",
       "      <td>0.933333</td>\n",
       "      <td>0.733333</td>\n",
       "      <td>0.857143</td>\n",
       "      <td>0.928571</td>\n",
       "      <td>0.928571</td>\n",
       "      <td>0.876190</td>\n",
       "      <td>0.076842</td>\n",
       "      <td>48</td>\n",
       "    </tr>\n",
       "  </tbody>\n",
       "</table>\n",
       "<p>116 rows × 16 columns</p>\n",
       "</div>"
      ],
      "text/plain": [
       "     mean_fit_time  std_fit_time  mean_score_time  std_score_time  \\\n",
       "0         0.002407      0.000797         0.002250        0.000973   \n",
       "1         0.001799      0.000399         0.001600        0.000490   \n",
       "2         0.001801      0.000747         0.002199        0.000400   \n",
       "3         0.001403      0.000494         0.000998        0.000004   \n",
       "4         0.001203      0.000407         0.001402        0.000799   \n",
       "..             ...           ...              ...             ...   \n",
       "111       0.001000      0.000635         0.001686        0.000594   \n",
       "112       0.000996      0.000004         0.001400        0.000486   \n",
       "113       0.001003      0.000010         0.001199        0.000407   \n",
       "114       0.001020      0.000046         0.001394        0.000483   \n",
       "115       0.001204      0.000382         0.001395        0.000494   \n",
       "\n",
       "    param_n_neighbors param_p param_weights  \\\n",
       "0                   1       1       uniform   \n",
       "1                   1       1      distance   \n",
       "2                   1       2       uniform   \n",
       "3                   1       2      distance   \n",
       "4                   2       1       uniform   \n",
       "..                ...     ...           ...   \n",
       "111                28       2      distance   \n",
       "112                29       1       uniform   \n",
       "113                29       1      distance   \n",
       "114                29       2       uniform   \n",
       "115                29       2      distance   \n",
       "\n",
       "                                                params  split0_test_score  \\\n",
       "0     {'n_neighbors': 1, 'p': 1, 'weights': 'uniform'}           0.933333   \n",
       "1    {'n_neighbors': 1, 'p': 1, 'weights': 'distance'}           0.933333   \n",
       "2     {'n_neighbors': 1, 'p': 2, 'weights': 'uniform'}           0.933333   \n",
       "3    {'n_neighbors': 1, 'p': 2, 'weights': 'distance'}           0.933333   \n",
       "4     {'n_neighbors': 2, 'p': 1, 'weights': 'uniform'}           0.933333   \n",
       "..                                                 ...                ...   \n",
       "111  {'n_neighbors': 28, 'p': 2, 'weights': 'distan...           0.933333   \n",
       "112  {'n_neighbors': 29, 'p': 1, 'weights': 'uniform'}           0.466667   \n",
       "113  {'n_neighbors': 29, 'p': 1, 'weights': 'distan...           0.933333   \n",
       "114  {'n_neighbors': 29, 'p': 2, 'weights': 'uniform'}           0.533333   \n",
       "115  {'n_neighbors': 29, 'p': 2, 'weights': 'distan...           0.933333   \n",
       "\n",
       "     split1_test_score  split2_test_score  split3_test_score  \\\n",
       "0             0.733333           0.857143           1.000000   \n",
       "1             0.733333           0.857143           1.000000   \n",
       "2             0.666667           0.928571           1.000000   \n",
       "3             0.666667           0.928571           1.000000   \n",
       "4             0.733333           0.857143           0.928571   \n",
       "..                 ...                ...                ...   \n",
       "111           0.733333           0.857143           0.928571   \n",
       "112           0.533333           0.571429           0.571429   \n",
       "113           0.733333           0.857143           0.928571   \n",
       "114           0.533333           0.642857           0.642857   \n",
       "115           0.733333           0.857143           0.928571   \n",
       "\n",
       "     split4_test_score  mean_test_score  std_test_score  rank_test_score  \n",
       "0             1.000000         0.904762        0.100610               18  \n",
       "1             1.000000         0.904762        0.100610               18  \n",
       "2             1.000000         0.905714        0.123457               15  \n",
       "3             1.000000         0.905714        0.123457               15  \n",
       "4             1.000000         0.890476        0.090651               30  \n",
       "..                 ...              ...             ...              ...  \n",
       "111           0.928571         0.876190        0.076842               48  \n",
       "112           0.428571         0.514286        0.057459              116  \n",
       "113           0.928571         0.876190        0.076842               48  \n",
       "114           0.500000         0.570476        0.060339              115  \n",
       "115           0.928571         0.876190        0.076842               48  \n",
       "\n",
       "[116 rows x 16 columns]"
      ]
     },
     "execution_count": 248,
     "metadata": {},
     "output_type": "execute_result"
    }
   ],
   "source": [
    "gscv_df= pd.DataFrame(GScv.cv_results_)\n",
    "gscv_df"
   ]
  },
  {
   "cell_type": "code",
   "execution_count": 250,
   "metadata": {},
   "outputs": [
    {
     "name": "stdout",
     "output_type": "stream",
     "text": [
      "하이퍼 파라미터: {'n_neighbors': 3, 'p': 1, 'weights': 'distance'},점수0.93\n"
     ]
    }
   ],
   "source": [
    "print(f'하이퍼 파라미터: {GScv.best_params_},점수{round(GScv.best_score_,2)}')"
   ]
  },
  {
   "attachments": {},
   "cell_type": "markdown",
   "metadata": {},
   "source": [
    "### 회귀 Regression -knn 방식\n",
    "- 분류의 경우 predcit_proba로 return\n",
    "- 회귀의 경우 평균값을 return\n",
    "- KNeighborsClassifier()알고리즘 사용\n",
    "- ex)키를 통해 몸무게 예측"
   ]
  },
  {
   "cell_type": "code",
   "execution_count": 319,
   "metadata": {},
   "outputs": [
    {
     "data": {
      "text/html": [
       "<div>\n",
       "<style scoped>\n",
       "    .dataframe tbody tr th:only-of-type {\n",
       "        vertical-align: middle;\n",
       "    }\n",
       "\n",
       "    .dataframe tbody tr th {\n",
       "        vertical-align: top;\n",
       "    }\n",
       "\n",
       "    .dataframe thead th {\n",
       "        text-align: right;\n",
       "    }\n",
       "</style>\n",
       "<table border=\"1\" class=\"dataframe\">\n",
       "  <thead>\n",
       "    <tr style=\"text-align: right;\">\n",
       "      <th></th>\n",
       "      <th>gender</th>\n",
       "      <th>weight_kg</th>\n",
       "      <th>height_cm</th>\n",
       "    </tr>\n",
       "  </thead>\n",
       "  <tbody>\n",
       "    <tr>\n",
       "      <th>0</th>\n",
       "      <td>m</td>\n",
       "      <td>98</td>\n",
       "      <td>198</td>\n",
       "    </tr>\n",
       "    <tr>\n",
       "      <th>1</th>\n",
       "      <td>m</td>\n",
       "      <td>77</td>\n",
       "      <td>170</td>\n",
       "    </tr>\n",
       "    <tr>\n",
       "      <th>2</th>\n",
       "      <td>m</td>\n",
       "      <td>70</td>\n",
       "      <td>170</td>\n",
       "    </tr>\n",
       "    <tr>\n",
       "      <th>3</th>\n",
       "      <td>m</td>\n",
       "      <td>90</td>\n",
       "      <td>198</td>\n",
       "    </tr>\n",
       "    <tr>\n",
       "      <th>4</th>\n",
       "      <td>m</td>\n",
       "      <td>71</td>\n",
       "      <td>170</td>\n",
       "    </tr>\n",
       "    <tr>\n",
       "      <th>...</th>\n",
       "      <td>...</td>\n",
       "      <td>...</td>\n",
       "      <td>...</td>\n",
       "    </tr>\n",
       "    <tr>\n",
       "      <th>85</th>\n",
       "      <td>f</td>\n",
       "      <td>100</td>\n",
       "      <td>190</td>\n",
       "    </tr>\n",
       "    <tr>\n",
       "      <th>86</th>\n",
       "      <td>f</td>\n",
       "      <td>54</td>\n",
       "      <td>163</td>\n",
       "    </tr>\n",
       "    <tr>\n",
       "      <th>87</th>\n",
       "      <td>f</td>\n",
       "      <td>57</td>\n",
       "      <td>161</td>\n",
       "    </tr>\n",
       "    <tr>\n",
       "      <th>88</th>\n",
       "      <td>f</td>\n",
       "      <td>101</td>\n",
       "      <td>198</td>\n",
       "    </tr>\n",
       "    <tr>\n",
       "      <th>89</th>\n",
       "      <td>f</td>\n",
       "      <td>110</td>\n",
       "      <td>190</td>\n",
       "    </tr>\n",
       "  </tbody>\n",
       "</table>\n",
       "<p>90 rows × 3 columns</p>\n",
       "</div>"
      ],
      "text/plain": [
       "   gender  weight_kg  height_cm\n",
       "0       m         98        198\n",
       "1       m         77        170\n",
       "2       m         70        170\n",
       "3       m         90        198\n",
       "4       m         71        170\n",
       "..    ...        ...        ...\n",
       "85      f        100        190\n",
       "86      f         54        163\n",
       "87      f         57        161\n",
       "88      f        101        198\n",
       "89      f        110        190\n",
       "\n",
       "[90 rows x 3 columns]"
      ]
     },
     "execution_count": 319,
     "metadata": {},
     "output_type": "execute_result"
    }
   ],
   "source": [
    "STDF = pd.read_csv('../dataset/student_info.csv')\n",
    "STDF['gender'] = STDF['gender'].astype('category')\n",
    "STDF.drop(['no'],axis=1,inplace=True)\n",
    "STDF"
   ]
  },
  {
   "cell_type": "code",
   "execution_count": 325,
   "metadata": {},
   "outputs": [
    {
     "name": "stdout",
     "output_type": "stream",
     "text": [
      "-0.24\n"
     ]
    }
   ],
   "source": [
    "from sklearn.neighbors import KNeighborsRegressor\n",
    "import numpy as np\n",
    "stdf_data = STDF[STDF.columns[2]]\n",
    "stdf_target = np.array(STDF[STDF.columns[1]]).reshape(-1,1)\n",
    "stdf_data\n",
    "X_train, X_test, y_train, y_test = train_test_split(stdf_target, stdf_data, test_size=0.2, random_state=5)\n",
    "len(X_train)\n",
    "KNR = KNeighborsRegressor()\n",
    "KNR.fit(X_train, y_train)\n",
    "print(f'{KNR.score(X_test, y_test):.2f}')\n",
    "y_pred = KNR.predict(X_test)\n"
   ]
  },
  {
   "cell_type": "code",
   "execution_count": 321,
   "metadata": {},
   "outputs": [
    {
     "name": "stdout",
     "output_type": "stream",
     "text": [
      "k =  5\n",
      "(array([[60., 60., 69., 70., 72.]]), array([[50,  7, 35,  0, 16]], dtype=int64))\n",
      "[188.2]\n"
     ]
    }
   ],
   "source": [
    "print('k = ',KNR.n_neighbors)\n",
    "print(KNR.kneighbors([[170.0]]))\n",
    "#이걸 평균한 값\n",
    "print(KNR.predict([[170.0]]))"
   ]
  },
  {
   "cell_type": "code",
   "execution_count": 326,
   "metadata": {},
   "outputs": [],
   "source": [
    "from sklearn.model_selection import GridSearchCV\n",
    "param = {'weights':['uniform', 'distance'],'n_neighbors': [i for i in range(1,70)],'algorithm':['auto', 'ball_tree', 'kd_tree', 'brute'],'p': [1,2]}\n",
    "KNR = KNeighborsRegressor()\n",
    "KNR.fit()\n",
    "\n",
    "gscv = GridSearchCV(KNR, param, cv=5, scoring='neg_mean_squared_error')\n"
   ]
  },
  {
   "cell_type": "code",
   "execution_count": 329,
   "metadata": {},
   "outputs": [
    {
     "ename": "AttributeError",
     "evalue": "'GridSearchCV' object has no attribute 'best_params_'",
     "output_type": "error",
     "traceback": [
      "\u001b[1;31m---------------------------------------------------------------------------\u001b[0m",
      "\u001b[1;31mAttributeError\u001b[0m                            Traceback (most recent call last)",
      "\u001b[1;32m~\\AppData\\Local\\Temp\\ipykernel_14772\\1607645268.py\u001b[0m in \u001b[0;36m<module>\u001b[1;34m\u001b[0m\n\u001b[1;32m----> 1\u001b[1;33m \u001b[0mgscv\u001b[0m\u001b[1;33m.\u001b[0m\u001b[0mbest_params_\u001b[0m\u001b[1;33m\u001b[0m\u001b[1;33m\u001b[0m\u001b[0m\n\u001b[0m",
      "\u001b[1;31mAttributeError\u001b[0m: 'GridSearchCV' object has no attribute 'best_params_'"
     ]
    }
   ],
   "source": [
    "gscv.best_params_"
   ]
  },
  {
   "cell_type": "code",
   "execution_count": null,
   "metadata": {},
   "outputs": [],
   "source": []
  }
 ],
 "metadata": {
  "kernelspec": {
   "display_name": "base",
   "language": "python",
   "name": "python3"
  },
  "language_info": {
   "codemirror_mode": {
    "name": "ipython",
    "version": 3
   },
   "file_extension": ".py",
   "mimetype": "text/x-python",
   "name": "python",
   "nbconvert_exporter": "python",
   "pygments_lexer": "ipython3",
   "version": "3.9.16"
  },
  "orig_nbformat": 4
 },
 "nbformat": 4,
 "nbformat_minor": 2
}
